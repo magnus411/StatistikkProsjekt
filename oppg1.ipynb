{
 "cells": [
  {
   "cell_type": "markdown",
   "id": "50f11f08-7dba-453b-b296-4c34857d7f3b",
   "metadata": {},
   "source": [
    "### Relevante pakker"
   ]
  },
  {
   "cell_type": "code",
   "execution_count": 2,
   "id": "dcb40345-1333-4d8e-98f2-141742eda0bc",
   "metadata": {},
   "outputs": [],
   "source": [
    "import numpy as np\n",
    "import pandas as pd\n",
    "import matplotlib.pyplot as plt\n",
    "import seaborn as sns\n",
    "\n",
    "from scipy import stats\n",
    "import statsmodels.formula.api as smf\n",
    "import statsmodels.api as sm"
   ]
  },
  {
   "cell_type": "markdown",
   "id": "24502d85-0c4f-42ef-ae09-3d55ce6de792",
   "metadata": {},
   "source": [
    "Merk: ChatGPT har blitt brukt for å få hjelp til å skrive deler av denne koden."
   ]
  },
  {
   "cell_type": "markdown",
   "id": "a3b4223c-cd82-47fa-9929-410c9782bca1",
   "metadata": {
    "tags": []
   },
   "source": [
    "### Rense dataene"
   ]
  },
  {
   "cell_type": "code",
   "execution_count": 3,
   "id": "e2f2d7aa-9ea4-4a61-a367-99de1e9bab75",
   "metadata": {},
   "outputs": [
    {
     "data": {
      "text/html": [
       "<div>\n",
       "<style scoped>\n",
       "    .dataframe tbody tr th:only-of-type {\n",
       "        vertical-align: middle;\n",
       "    }\n",
       "\n",
       "    .dataframe tbody tr th {\n",
       "        vertical-align: top;\n",
       "    }\n",
       "\n",
       "    .dataframe thead th {\n",
       "        text-align: right;\n",
       "    }\n",
       "</style>\n",
       "<table border=\"1\" class=\"dataframe\">\n",
       "  <thead>\n",
       "    <tr style=\"text-align: right;\">\n",
       "      <th></th>\n",
       "      <th>Item_Number</th>\n",
       "      <th>Set_Name</th>\n",
       "      <th>Theme</th>\n",
       "      <th>Klassifisering</th>\n",
       "      <th>Pieces</th>\n",
       "      <th>Price</th>\n",
       "      <th>Amazon_Price</th>\n",
       "      <th>Year</th>\n",
       "      <th>Ages</th>\n",
       "      <th>Pages</th>\n",
       "      <th>Minifigures</th>\n",
       "      <th>Packaging</th>\n",
       "      <th>Weight</th>\n",
       "      <th>Unique_Pieces</th>\n",
       "      <th>Availability</th>\n",
       "      <th>Size</th>\n",
       "      <th>Unnamed: 16</th>\n",
       "    </tr>\n",
       "  </thead>\n",
       "  <tbody>\n",
       "    <tr>\n",
       "      <th>0</th>\n",
       "      <td>76158</td>\n",
       "      <td>Batboat The Penguin Pursuit!</td>\n",
       "      <td>Batmanâ¢</td>\n",
       "      <td>B</td>\n",
       "      <td>54.0</td>\n",
       "      <td>$9.99</td>\n",
       "      <td>$9.89</td>\n",
       "      <td>2020</td>\n",
       "      <td>Ages_4+</td>\n",
       "      <td>44.0</td>\n",
       "      <td>2.0</td>\n",
       "      <td>Box</td>\n",
       "      <td>NaN</td>\n",
       "      <td>41.0</td>\n",
       "      <td>Retail</td>\n",
       "      <td>Small</td>\n",
       "      <td>NaN</td>\n",
       "    </tr>\n",
       "    <tr>\n",
       "      <th>1</th>\n",
       "      <td>70836</td>\n",
       "      <td>Battle-Ready Batman and MetalBeard</td>\n",
       "      <td>Batmanâ¢</td>\n",
       "      <td>B</td>\n",
       "      <td>168.0</td>\n",
       "      <td>$19.99</td>\n",
       "      <td>$19.99</td>\n",
       "      <td>2019</td>\n",
       "      <td>Ages_6+</td>\n",
       "      <td>64.0</td>\n",
       "      <td>2.0</td>\n",
       "      <td>Box</td>\n",
       "      <td>0.24Kg (0.53 lb)</td>\n",
       "      <td>98.0</td>\n",
       "      <td>Retail</td>\n",
       "      <td>Small</td>\n",
       "      <td>NaN</td>\n",
       "    </tr>\n",
       "    <tr>\n",
       "      <th>2</th>\n",
       "      <td>76137</td>\n",
       "      <td>Batman vs. The Riddler Robbery</td>\n",
       "      <td>Batmanâ¢</td>\n",
       "      <td>B</td>\n",
       "      <td>59.0</td>\n",
       "      <td>$9.99</td>\n",
       "      <td>$20.92</td>\n",
       "      <td>2019</td>\n",
       "      <td>Ages_4+</td>\n",
       "      <td>36.0</td>\n",
       "      <td>2.0</td>\n",
       "      <td>Box</td>\n",
       "      <td>NaN</td>\n",
       "      <td>44.0</td>\n",
       "      <td>Retail</td>\n",
       "      <td>Small</td>\n",
       "      <td>NaN</td>\n",
       "    </tr>\n",
       "    <tr>\n",
       "      <th>3</th>\n",
       "      <td>76110</td>\n",
       "      <td>Batman: The Attack of the Talons</td>\n",
       "      <td>Batmanâ¢</td>\n",
       "      <td>B</td>\n",
       "      <td>155.0</td>\n",
       "      <td>$19.99</td>\n",
       "      <td>$32.25</td>\n",
       "      <td>2018</td>\n",
       "      <td>Ages_7-12</td>\n",
       "      <td>60.0</td>\n",
       "      <td>3.0</td>\n",
       "      <td>Box</td>\n",
       "      <td>0.34Kg (0.75 lb)</td>\n",
       "      <td>82.0</td>\n",
       "      <td>Retail</td>\n",
       "      <td>Small</td>\n",
       "      <td>NaN</td>\n",
       "    </tr>\n",
       "    <tr>\n",
       "      <th>4</th>\n",
       "      <td>76116</td>\n",
       "      <td>Batman Batsub and the Underwater Clash</td>\n",
       "      <td>Batmanâ¢</td>\n",
       "      <td>B</td>\n",
       "      <td>174.0</td>\n",
       "      <td>$19.99</td>\n",
       "      <td>$36.00</td>\n",
       "      <td>2019</td>\n",
       "      <td>Ages_7+</td>\n",
       "      <td>64.0</td>\n",
       "      <td>3.0</td>\n",
       "      <td>Box</td>\n",
       "      <td>0.32Kg (0.7 lb)</td>\n",
       "      <td>82.0</td>\n",
       "      <td>Retail</td>\n",
       "      <td>Small</td>\n",
       "      <td>NaN</td>\n",
       "    </tr>\n",
       "    <tr>\n",
       "      <th>...</th>\n",
       "      <td>...</td>\n",
       "      <td>...</td>\n",
       "      <td>...</td>\n",
       "      <td>...</td>\n",
       "      <td>...</td>\n",
       "      <td>...</td>\n",
       "      <td>...</td>\n",
       "      <td>...</td>\n",
       "      <td>...</td>\n",
       "      <td>...</td>\n",
       "      <td>...</td>\n",
       "      <td>...</td>\n",
       "      <td>...</td>\n",
       "      <td>...</td>\n",
       "      <td>...</td>\n",
       "      <td>...</td>\n",
       "      <td>...</td>\n",
       "    </tr>\n",
       "    <tr>\n",
       "      <th>1299</th>\n",
       "      <td>40391</td>\n",
       "      <td>First Order Stormtrooper</td>\n",
       "      <td>Star Warsâ¢</td>\n",
       "      <td>B</td>\n",
       "      <td>151.0</td>\n",
       "      <td>$19.99</td>\n",
       "      <td>NaN</td>\n",
       "      <td>2020</td>\n",
       "      <td>Ages_8+</td>\n",
       "      <td>NaN</td>\n",
       "      <td>NaN</td>\n",
       "      <td>Box</td>\n",
       "      <td>NaN</td>\n",
       "      <td>55.0</td>\n",
       "      <td>LEGO exclusive</td>\n",
       "      <td>Small</td>\n",
       "      <td>NaN</td>\n",
       "    </tr>\n",
       "    <tr>\n",
       "      <th>1300</th>\n",
       "      <td>40431</td>\n",
       "      <td>BB-8</td>\n",
       "      <td>Star Warsâ¢</td>\n",
       "      <td>B</td>\n",
       "      <td>171.0</td>\n",
       "      <td>$19.99</td>\n",
       "      <td>NaN</td>\n",
       "      <td>2020</td>\n",
       "      <td>Ages_8+</td>\n",
       "      <td>NaN</td>\n",
       "      <td>NaN</td>\n",
       "      <td>Box</td>\n",
       "      <td>NaN</td>\n",
       "      <td>68.0</td>\n",
       "      <td>LEGO exclusive</td>\n",
       "      <td>Small</td>\n",
       "      <td>NaN</td>\n",
       "    </tr>\n",
       "    <tr>\n",
       "      <th>1301</th>\n",
       "      <td>75279</td>\n",
       "      <td>Star Wars Advent Calendar</td>\n",
       "      <td>Star Warsâ¢</td>\n",
       "      <td>B</td>\n",
       "      <td>311.0</td>\n",
       "      <td>$39.99</td>\n",
       "      <td>NaN</td>\n",
       "      <td>2020</td>\n",
       "      <td>Ages_6+</td>\n",
       "      <td>NaN</td>\n",
       "      <td>NaN</td>\n",
       "      <td>Box</td>\n",
       "      <td>NaN</td>\n",
       "      <td>185.0</td>\n",
       "      <td>Retail</td>\n",
       "      <td>Small</td>\n",
       "      <td>NaN</td>\n",
       "    </tr>\n",
       "    <tr>\n",
       "      <th>1302</th>\n",
       "      <td>75290</td>\n",
       "      <td>Mos Eisley Cantina</td>\n",
       "      <td>Star Warsâ¢</td>\n",
       "      <td>B</td>\n",
       "      <td>3187.0</td>\n",
       "      <td>$349.99</td>\n",
       "      <td>NaN</td>\n",
       "      <td>2020</td>\n",
       "      <td>Ages_18+</td>\n",
       "      <td>NaN</td>\n",
       "      <td>NaN</td>\n",
       "      <td>Box</td>\n",
       "      <td>NaN</td>\n",
       "      <td>NaN</td>\n",
       "      <td>LEGO exclusive</td>\n",
       "      <td>Small</td>\n",
       "      <td>NaN</td>\n",
       "    </tr>\n",
       "    <tr>\n",
       "      <th>1303</th>\n",
       "      <td>75810</td>\n",
       "      <td>The Upside Down</td>\n",
       "      <td>Stranger Things</td>\n",
       "      <td>N</td>\n",
       "      <td>2287.0</td>\n",
       "      <td>$199.99</td>\n",
       "      <td>$199.95</td>\n",
       "      <td>2019</td>\n",
       "      <td>Ages_16+</td>\n",
       "      <td>300.0</td>\n",
       "      <td>8.0</td>\n",
       "      <td>Box</td>\n",
       "      <td>NaN</td>\n",
       "      <td>533.0</td>\n",
       "      <td>LEGO exclusive</td>\n",
       "      <td>Small</td>\n",
       "      <td>NaN</td>\n",
       "    </tr>\n",
       "  </tbody>\n",
       "</table>\n",
       "<p>1304 rows × 17 columns</p>\n",
       "</div>"
      ],
      "text/plain": [
       "      Item_Number                                Set_Name            Theme  \\\n",
       "0           76158            Batboat The Penguin Pursuit!        Batmanâ¢   \n",
       "1           70836      Battle-Ready Batman and MetalBeard        Batmanâ¢   \n",
       "2           76137          Batman vs. The Riddler Robbery        Batmanâ¢   \n",
       "3           76110        Batman: The Attack of the Talons        Batmanâ¢   \n",
       "4           76116  Batman Batsub and the Underwater Clash        Batmanâ¢   \n",
       "...           ...                                     ...              ...   \n",
       "1299        40391                First Order Stormtrooper     Star Warsâ¢   \n",
       "1300        40431                                    BB-8     Star Warsâ¢   \n",
       "1301        75279               Star Wars Advent Calendar     Star Warsâ¢   \n",
       "1302        75290                      Mos Eisley Cantina     Star Warsâ¢   \n",
       "1303        75810                         The Upside Down  Stranger Things   \n",
       "\n",
       "     Klassifisering  Pieces    Price Amazon_Price  Year       Ages  Pages  \\\n",
       "0                 B    54.0    $9.99        $9.89  2020    Ages_4+   44.0   \n",
       "1                 B   168.0   $19.99       $19.99  2019    Ages_6+   64.0   \n",
       "2                 B    59.0    $9.99       $20.92  2019    Ages_4+   36.0   \n",
       "3                 B   155.0   $19.99       $32.25  2018  Ages_7-12   60.0   \n",
       "4                 B   174.0   $19.99       $36.00  2019    Ages_7+   64.0   \n",
       "...             ...     ...      ...          ...   ...        ...    ...   \n",
       "1299              B   151.0   $19.99          NaN  2020    Ages_8+    NaN   \n",
       "1300              B   171.0   $19.99          NaN  2020    Ages_8+    NaN   \n",
       "1301              B   311.0   $39.99          NaN  2020    Ages_6+    NaN   \n",
       "1302              B  3187.0  $349.99          NaN  2020   Ages_18+    NaN   \n",
       "1303              N  2287.0  $199.99      $199.95  2019   Ages_16+  300.0   \n",
       "\n",
       "      Minifigures Packaging            Weight  Unique_Pieces    Availability  \\\n",
       "0             2.0       Box               NaN           41.0          Retail   \n",
       "1             2.0       Box  0.24Kg (0.53 lb)           98.0          Retail   \n",
       "2             2.0       Box               NaN           44.0          Retail   \n",
       "3             3.0       Box  0.34Kg (0.75 lb)           82.0          Retail   \n",
       "4             3.0       Box   0.32Kg (0.7 lb)           82.0          Retail   \n",
       "...           ...       ...               ...            ...             ...   \n",
       "1299          NaN       Box               NaN           55.0  LEGO exclusive   \n",
       "1300          NaN       Box               NaN           68.0  LEGO exclusive   \n",
       "1301          NaN       Box               NaN          185.0          Retail   \n",
       "1302          NaN       Box               NaN            NaN  LEGO exclusive   \n",
       "1303          8.0       Box               NaN          533.0  LEGO exclusive   \n",
       "\n",
       "       Size Unnamed: 16  \n",
       "0     Small         NaN  \n",
       "1     Small         NaN  \n",
       "2     Small         NaN  \n",
       "3     Small         NaN  \n",
       "4     Small         NaN  \n",
       "...     ...         ...  \n",
       "1299  Small         NaN  \n",
       "1300  Small         NaN  \n",
       "1301  Small         NaN  \n",
       "1302  Small         NaN  \n",
       "1303  Small         NaN  \n",
       "\n",
       "[1304 rows x 17 columns]"
      ]
     },
     "execution_count": 3,
     "metadata": {},
     "output_type": "execute_result"
    }
   ],
   "source": [
    "df = pd.read_csv(\"lego.population.csv\", sep = \",\", encoding = \"latin1\")\n",
    "df"
   ]
  },
  {
   "cell_type": "code",
   "execution_count": 4,
   "id": "dfb7f59b-5291-46f5-b6e0-3bd48146358f",
   "metadata": {
    "tags": []
   },
   "outputs": [
    {
     "data": {
      "text/html": [
       "<div>\n",
       "<style scoped>\n",
       "    .dataframe tbody tr th:only-of-type {\n",
       "        vertical-align: middle;\n",
       "    }\n",
       "\n",
       "    .dataframe tbody tr th {\n",
       "        vertical-align: top;\n",
       "    }\n",
       "\n",
       "    .dataframe thead th {\n",
       "        text-align: right;\n",
       "    }\n",
       "</style>\n",
       "<table border=\"1\" class=\"dataframe\">\n",
       "  <thead>\n",
       "    <tr style=\"text-align: right;\">\n",
       "      <th></th>\n",
       "      <th>Set_Name</th>\n",
       "      <th>Theme</th>\n",
       "      <th>Klassifisering</th>\n",
       "      <th>Price</th>\n",
       "      <th>Pages</th>\n",
       "      <th>Pieces</th>\n",
       "      <th>Unique_Pieces</th>\n",
       "      <th>Klassifisering_norm</th>\n",
       "    </tr>\n",
       "  </thead>\n",
       "  <tbody>\n",
       "    <tr>\n",
       "      <th>0</th>\n",
       "      <td>Batboat The Penguin Pursuit!</td>\n",
       "      <td>Batman</td>\n",
       "      <td>B</td>\n",
       "      <td>9.99</td>\n",
       "      <td>44.0</td>\n",
       "      <td>54.0</td>\n",
       "      <td>41.0</td>\n",
       "      <td>1</td>\n",
       "    </tr>\n",
       "    <tr>\n",
       "      <th>1</th>\n",
       "      <td>Battle-Ready Batman and MetalBeard</td>\n",
       "      <td>Batman</td>\n",
       "      <td>B</td>\n",
       "      <td>19.99</td>\n",
       "      <td>64.0</td>\n",
       "      <td>168.0</td>\n",
       "      <td>98.0</td>\n",
       "      <td>1</td>\n",
       "    </tr>\n",
       "    <tr>\n",
       "      <th>2</th>\n",
       "      <td>Batman vs. The Riddler Robbery</td>\n",
       "      <td>Batman</td>\n",
       "      <td>B</td>\n",
       "      <td>9.99</td>\n",
       "      <td>36.0</td>\n",
       "      <td>59.0</td>\n",
       "      <td>44.0</td>\n",
       "      <td>1</td>\n",
       "    </tr>\n",
       "    <tr>\n",
       "      <th>3</th>\n",
       "      <td>Batman: The Attack of the Talons</td>\n",
       "      <td>Batman</td>\n",
       "      <td>B</td>\n",
       "      <td>19.99</td>\n",
       "      <td>60.0</td>\n",
       "      <td>155.0</td>\n",
       "      <td>82.0</td>\n",
       "      <td>1</td>\n",
       "    </tr>\n",
       "    <tr>\n",
       "      <th>4</th>\n",
       "      <td>Batman Batsub and the Underwater Clash</td>\n",
       "      <td>Batman</td>\n",
       "      <td>B</td>\n",
       "      <td>19.99</td>\n",
       "      <td>64.0</td>\n",
       "      <td>174.0</td>\n",
       "      <td>82.0</td>\n",
       "      <td>1</td>\n",
       "    </tr>\n",
       "    <tr>\n",
       "      <th>...</th>\n",
       "      <td>...</td>\n",
       "      <td>...</td>\n",
       "      <td>...</td>\n",
       "      <td>...</td>\n",
       "      <td>...</td>\n",
       "      <td>...</td>\n",
       "      <td>...</td>\n",
       "      <td>...</td>\n",
       "    </tr>\n",
       "    <tr>\n",
       "      <th>1294</th>\n",
       "      <td>Death Star Final Duel</td>\n",
       "      <td>Star Wars</td>\n",
       "      <td>B</td>\n",
       "      <td>99.99</td>\n",
       "      <td>140.0</td>\n",
       "      <td>775.0</td>\n",
       "      <td>241.0</td>\n",
       "      <td>1</td>\n",
       "    </tr>\n",
       "    <tr>\n",
       "      <th>1295</th>\n",
       "      <td>Resistance I-TS Transport</td>\n",
       "      <td>Star Wars</td>\n",
       "      <td>B</td>\n",
       "      <td>99.99</td>\n",
       "      <td>140.0</td>\n",
       "      <td>932.0</td>\n",
       "      <td>215.0</td>\n",
       "      <td>1</td>\n",
       "    </tr>\n",
       "    <tr>\n",
       "      <th>1297</th>\n",
       "      <td>TIE Fighter Pilot</td>\n",
       "      <td>Star Wars</td>\n",
       "      <td>B</td>\n",
       "      <td>59.99</td>\n",
       "      <td>148.0</td>\n",
       "      <td>724.0</td>\n",
       "      <td>155.0</td>\n",
       "      <td>1</td>\n",
       "    </tr>\n",
       "    <tr>\n",
       "      <th>1298</th>\n",
       "      <td>Y-wing Starfighter</td>\n",
       "      <td>Star Wars</td>\n",
       "      <td>B</td>\n",
       "      <td>199.99</td>\n",
       "      <td>220.0</td>\n",
       "      <td>1967.0</td>\n",
       "      <td>359.0</td>\n",
       "      <td>1</td>\n",
       "    </tr>\n",
       "    <tr>\n",
       "      <th>1303</th>\n",
       "      <td>The Upside Down</td>\n",
       "      <td>Stranger Things</td>\n",
       "      <td>N</td>\n",
       "      <td>199.99</td>\n",
       "      <td>300.0</td>\n",
       "      <td>2287.0</td>\n",
       "      <td>533.0</td>\n",
       "      <td>0</td>\n",
       "    </tr>\n",
       "  </tbody>\n",
       "</table>\n",
       "<p>922 rows × 8 columns</p>\n",
       "</div>"
      ],
      "text/plain": [
       "                                    Set_Name            Theme Klassifisering  \\\n",
       "0               Batboat The Penguin Pursuit!           Batman              B   \n",
       "1         Battle-Ready Batman and MetalBeard           Batman              B   \n",
       "2             Batman vs. The Riddler Robbery           Batman              B   \n",
       "3           Batman: The Attack of the Talons           Batman              B   \n",
       "4     Batman Batsub and the Underwater Clash           Batman              B   \n",
       "...                                      ...              ...            ...   \n",
       "1294                   Death Star Final Duel        Star Wars              B   \n",
       "1295               Resistance I-TS Transport        Star Wars              B   \n",
       "1297                       TIE Fighter Pilot        Star Wars              B   \n",
       "1298                      Y-wing Starfighter        Star Wars              B   \n",
       "1303                         The Upside Down  Stranger Things              N   \n",
       "\n",
       "       Price  Pages  Pieces  Unique_Pieces  Klassifisering_norm  \n",
       "0       9.99   44.0    54.0           41.0                    1  \n",
       "1      19.99   64.0   168.0           98.0                    1  \n",
       "2       9.99   36.0    59.0           44.0                    1  \n",
       "3      19.99   60.0   155.0           82.0                    1  \n",
       "4      19.99   64.0   174.0           82.0                    1  \n",
       "...      ...    ...     ...            ...                  ...  \n",
       "1294   99.99  140.0   775.0          241.0                    1  \n",
       "1295   99.99  140.0   932.0          215.0                    1  \n",
       "1297   59.99  148.0   724.0          155.0                    1  \n",
       "1298  199.99  220.0  1967.0          359.0                    1  \n",
       "1303  199.99  300.0  2287.0          533.0                    0  \n",
       "\n",
       "[922 rows x 8 columns]"
      ]
     },
     "execution_count": 4,
     "metadata": {},
     "output_type": "execute_result"
    }
   ],
   "source": [
    "# fjerner forklaringsvariabler vi ikke trenger\n",
    "\n",
    "\n",
    "df2 = df[['Set_Name', 'Theme', \"Klassifisering\",'Price', 'Pages', \"Pieces\", 'Unique_Pieces']]\n",
    "\n",
    "# fjerner observasjoner med manglende datapunkter\n",
    "df2 = df2.dropna()\n",
    "\n",
    "klassifisering_mapping = {\"N\": 0, \"B\": 1, \"G\": 2}\n",
    "df2['Klassifisering_norm'] = df2['Klassifisering'].map(klassifisering_mapping)\n",
    "\n",
    "# gjør themes om til string og fjern alle tegn vi ikke vil ha med\n",
    "df2['Theme'] = df2['Theme'].astype(str)\n",
    "df2['Theme'] = df2['Theme'].str.replace(r'[^a-zA-Z0-9\\s-]', '', regex = True)\n",
    "\n",
    "# fjerner dollartegn og trademark-tegn fra datasettet\n",
    "df2['Price'] = df2['Price'].str.replace('\\$', '', regex = True)\n",
    "\n",
    "# og gjør så prisen om til float\n",
    "df2['Price'] = df2['Price'].astype(float)\n",
    "\n",
    "\n",
    "\n",
    "\n",
    "\n",
    "df2"
   ]
  },
  {
   "cell_type": "markdown",
   "id": "4a78dbed-8cd3-4d2c-9c1a-81126d49c95c",
   "metadata": {},
   "source": [
    "### Mer eller mindre relevante kodesnutter"
   ]
  },
  {
   "cell_type": "code",
   "execution_count": 5,
   "id": "b7277ac7-b3e9-41f8-91d0-3398955ed196",
   "metadata": {},
   "outputs": [
    {
     "name": "stdout",
     "output_type": "stream",
     "text": [
      "Price                   47.082733\n",
      "Pages                  107.005423\n",
      "Pieces                 438.041215\n",
      "Unique_Pieces          135.129067\n",
      "Klassifisering_norm      0.952278\n",
      "dtype: float64\n"
     ]
    }
   ],
   "source": [
    "print(df2.mean(numeric_only = True))"
   ]
  },
  {
   "cell_type": "code",
   "execution_count": 12,
   "id": "fdbb41c9-8461-4c74-ad4c-f229be31b3d9",
   "metadata": {},
   "outputs": [
    {
     "name": "stdout",
     "output_type": "stream",
     "text": [
      "Star Wars            110\n",
      "Friends              100\n",
      "City                  94\n",
      "NINJAGO               78\n",
      "DUPLO                 51\n",
      "Marvel                50\n",
      "Disney                41\n",
      "Creator 3-in-1        38\n",
      "Technic               38\n",
      "BrickHeadz            31\n",
      "Minecraft             26\n",
      "THE LEGO MOVIE 2      26\n",
      "Harry Potter          22\n",
      "Jurassic World        20\n",
      "Classic               20\n",
      "Hidden Side           19\n",
      "Speed Champions       17\n",
      "Batman                16\n",
      "Creator Expert        15\n",
      "Ideas                 12\n",
      "Juniors               12\n",
      "Architecture          11\n",
      "DC                     9\n",
      "Trolls World Tour      9\n",
      "Monkie Kid             9\n",
      "DOTS                   8\n",
      "LEGO Frozen 2          8\n",
      "Overwatch              8\n",
      "Unikitty               6\n",
      "Xtra                   4\n",
      "Powered UP             4\n",
      "Minifigures            3\n",
      "Spider-Man             2\n",
      "Minions                2\n",
      "Powerpuff Girls        2\n",
      "Stranger Things        1\n",
      "Name: Theme, dtype: int64\n"
     ]
    }
   ],
   "source": [
    "print(df2['Theme'].value_counts())"
   ]
  },
  {
   "cell_type": "code",
   "execution_count": 13,
   "id": "305f61df-482b-4632-aedc-c1155c13c71e",
   "metadata": {},
   "outputs": [
    {
     "data": {
      "image/png": "[encoded data removed]",
      "text/plain": [
       "<Figure size 432x288 with 1 Axes>"
      ]
     },
     "metadata": {
      "needs_background": "light"
     },
     "output_type": "display_data"
    }
   ],
   "source": [
    "plt.hist(df2['Price'], bins=20, color='skyblue', edgecolor='black')\n",
    "plt.xlabel('Pris i dollar [$]')\n",
    "plt.ylabel('')\n",
    "plt.gca().set_aspect(1)\n",
    "plt.show()"
   ]
  },
  {
   "cell_type": "code",
   "execution_count": 22,
   "id": "af31fc2d-1787-49cb-a6ca-73ef99d7f4d8",
   "metadata": {},
   "outputs": [
    {
     "data": {
      "image/png": "[encoded data removed]",
      "text/plain": [
       "<Figure size 432x288 with 1 Axes>"
      ]
     },
     "metadata": {
      "needs_background": "light"
     },
     "output_type": "display_data"
    }
   ],
   "source": [
    "plt.scatter(df2['Pieces'], df2['Price'])\n",
    "plt.xlabel('Antall brikker')\n",
    "plt.ylabel('Pris i dollar [$]')\n",
    "plt.gca().set_aspect(5)\n",
    "plt.show()"
   ]
  },
  {
   "cell_type": "code",
   "execution_count": 20,
   "id": "22b5c0f2-00b0-40d9-9829-57065427c8ce",
   "metadata": {},
   "outputs": [
    {
     "name": "stdout",
     "output_type": "stream",
     "text": [
      "Set_Name          Imperial Star Destroyer\n",
      "Theme                           Star Wars\n",
      "Klassifisering                          B\n",
      "Price                              699.99\n",
      "Pages                               444.0\n",
      "Pieces                             4784.0\n",
      "Unique_Pieces                       445.0\n",
      "Name: 1279, dtype: object\n"
     ]
    }
   ],
   "source": [
    "# hva er det dyreste settet i datasettet mon tro?\n",
    "print(df2.loc[df2['Price'].idxmax()])"
   ]
  },
  {
   "cell_type": "code",
   "execution_count": 23,
   "id": "d40850cf-b058-46df-b324-d69c6073f9bd",
   "metadata": {},
   "outputs": [
    {
     "name": "stdout",
     "output_type": "stream",
     "text": [
      "Set_Name          Hogwarts Castle\n",
      "Theme                Harry Potter\n",
      "Klassifisering                  N\n",
      "Price                      399.99\n",
      "Pages                       636.0\n",
      "Pieces                     6020.0\n",
      "Unique_Pieces               624.0\n",
      "Name: 756, dtype: object\n"
     ]
    }
   ],
   "source": [
    "# og hvilket har flest brikker?\n",
    "print(df2.loc[df2['Pieces'].idxmax()])"
   ]
  },
  {
   "cell_type": "code",
   "execution_count": 77,
   "id": "279981a0-b865-44ba-b942-ae78f05ec966",
   "metadata": {},
   "outputs": [
    {
     "data": {
      "text/plain": [
       "Theme\n",
       "Xtra            3.990000\n",
       "Minifigures    12.990000\n",
       "BrickHeadz     13.731935\n",
       "Name: Price, dtype: float64"
      ]
     },
     "execution_count": 77,
     "metadata": {},
     "output_type": "execute_result"
    }
   ],
   "source": [
    "# hvilke tema har de billigste settene?\n",
    "df2.groupby('Theme')['Price'].mean().sort_values(ascending=True)[:3]"
   ]
  },
  {
   "cell_type": "code",
   "execution_count": null,
   "id": "3a1895ad-c879-49f1-8acc-1a9494005a18",
   "metadata": {},
   "outputs": [],
   "source": [
    "# hvilke tema har flest brikker?\n",
    "df2.groupby('Theme')['Pieces'].mean().sort_values(ascending=False)[:3]"
   ]
  },
  {
   "cell_type": "code",
   "execution_count": 25,
   "id": "2745c858-605e-4381-a91d-cd60a08ef14f",
   "metadata": {},
   "outputs": [
    {
     "ename": "KeyError",
     "evalue": "'Minifigures'",
     "output_type": "error",
     "traceback": [
      "\u001b[0;31m---------------------------------------------------------------------------\u001b[0m",
      "\u001b[0;31mKeyError\u001b[0m                                  Traceback (most recent call last)",
      "File \u001b[0;32m~/opt/anaconda3/lib/python3.9/site-packages/pandas/core/indexes/base.py:3621\u001b[0m, in \u001b[0;36mIndex.get_loc\u001b[0;34m(self, key, method, tolerance)\u001b[0m\n\u001b[1;32m   3620\u001b[0m \u001b[39mtry\u001b[39;00m:\n\u001b[0;32m-> 3621\u001b[0m     \u001b[39mreturn\u001b[39;00m \u001b[39mself\u001b[39;49m\u001b[39m.\u001b[39;49m_engine\u001b[39m.\u001b[39;49mget_loc(casted_key)\n\u001b[1;32m   3622\u001b[0m \u001b[39mexcept\u001b[39;00m \u001b[39mKeyError\u001b[39;00m \u001b[39mas\u001b[39;00m err:\n",
      "File \u001b[0;32m~/opt/anaconda3/lib/python3.9/site-packages/pandas/_libs/index.pyx:136\u001b[0m, in \u001b[0;36mpandas._libs.index.IndexEngine.get_loc\u001b[0;34m()\u001b[0m\n",
      "File \u001b[0;32m~/opt/anaconda3/lib/python3.9/site-packages/pandas/_libs/index.pyx:163\u001b[0m, in \u001b[0;36mpandas._libs.index.IndexEngine.get_loc\u001b[0;34m()\u001b[0m\n",
      "File \u001b[0;32mpandas/_libs/hashtable_class_helper.pxi:5198\u001b[0m, in \u001b[0;36mpandas._libs.hashtable.PyObjectHashTable.get_item\u001b[0;34m()\u001b[0m\n",
      "File \u001b[0;32mpandas/_libs/hashtable_class_helper.pxi:5206\u001b[0m, in \u001b[0;36mpandas._libs.hashtable.PyObjectHashTable.get_item\u001b[0;34m()\u001b[0m\n",
      "\u001b[0;31mKeyError\u001b[0m: 'Minifigures'",
      "\nThe above exception was the direct cause of the following exception:\n",
      "\u001b[0;31mKeyError\u001b[0m                                  Traceback (most recent call last)",
      "\u001b[1;32m/Users/magnusgjerstad/Desktop/NTNU/StatestikkProjekt/oppg1.ipynb Cell 16\u001b[0m line \u001b[0;36m<cell line: 1>\u001b[0;34m()\u001b[0m\n\u001b[0;32m----> <a href='vscode-notebook-cell:/Users/magnusgjerstad/Desktop/NTNU/StatestikkProjekt/oppg1.ipynb#X21sZmlsZQ%3D%3D?line=0'>1</a>\u001b[0m sns\u001b[39m.\u001b[39;49mpairplot(df2, \u001b[39mvars\u001b[39;49m \u001b[39m=\u001b[39;49m [\u001b[39m'\u001b[39;49m\u001b[39mPrice\u001b[39;49m\u001b[39m'\u001b[39;49m, \u001b[39m'\u001b[39;49m\u001b[39mPieces\u001b[39;49m\u001b[39m'\u001b[39;49m, \u001b[39m'\u001b[39;49m\u001b[39mPages\u001b[39;49m\u001b[39m'\u001b[39;49m, \u001b[39m'\u001b[39;49m\u001b[39mMinifigures\u001b[39;49m\u001b[39m'\u001b[39;49m, \u001b[39m'\u001b[39;49m\u001b[39mUnique_Pieces\u001b[39;49m\u001b[39m'\u001b[39;49m],\n\u001b[1;32m      <a href='vscode-notebook-cell:/Users/magnusgjerstad/Desktop/NTNU/StatestikkProjekt/oppg1.ipynb#X21sZmlsZQ%3D%3D?line=1'>2</a>\u001b[0m              hue \u001b[39m=\u001b[39;49m \u001b[39m'\u001b[39;49m\u001b[39mTheme\u001b[39;49m\u001b[39m'\u001b[39;49m, \n\u001b[1;32m      <a href='vscode-notebook-cell:/Users/magnusgjerstad/Desktop/NTNU/StatestikkProjekt/oppg1.ipynb#X21sZmlsZQ%3D%3D?line=2'>3</a>\u001b[0m              diag_kind \u001b[39m=\u001b[39;49m \u001b[39m'\u001b[39;49m\u001b[39mkde\u001b[39;49m\u001b[39m'\u001b[39;49m,\n\u001b[1;32m      <a href='vscode-notebook-cell:/Users/magnusgjerstad/Desktop/NTNU/StatestikkProjekt/oppg1.ipynb#X21sZmlsZQ%3D%3D?line=3'>4</a>\u001b[0m              plot_kws \u001b[39m=\u001b[39;49m \u001b[39mdict\u001b[39;49m(alpha \u001b[39m=\u001b[39;49m \u001b[39m0.4\u001b[39;49m))\n\u001b[1;32m      <a href='vscode-notebook-cell:/Users/magnusgjerstad/Desktop/NTNU/StatestikkProjekt/oppg1.ipynb#X21sZmlsZQ%3D%3D?line=4'>5</a>\u001b[0m plt\u001b[39m.\u001b[39mshow()\n",
      "File \u001b[0;32m~/opt/anaconda3/lib/python3.9/site-packages/seaborn/_decorators.py:46\u001b[0m, in \u001b[0;36m_deprecate_positional_args.<locals>.inner_f\u001b[0;34m(*args, **kwargs)\u001b[0m\n\u001b[1;32m     36\u001b[0m     warnings\u001b[39m.\u001b[39mwarn(\n\u001b[1;32m     37\u001b[0m         \u001b[39m\"\u001b[39m\u001b[39mPass the following variable\u001b[39m\u001b[39m{}\u001b[39;00m\u001b[39m as \u001b[39m\u001b[39m{}\u001b[39;00m\u001b[39mkeyword arg\u001b[39m\u001b[39m{}\u001b[39;00m\u001b[39m: \u001b[39m\u001b[39m{}\u001b[39;00m\u001b[39m. \u001b[39m\u001b[39m\"\u001b[39m\n\u001b[1;32m     38\u001b[0m         \u001b[39m\"\u001b[39m\u001b[39mFrom version 0.12, the only valid positional argument \u001b[39m\u001b[39m\"\u001b[39m\n\u001b[0;32m   (...)\u001b[0m\n\u001b[1;32m     43\u001b[0m         \u001b[39mFutureWarning\u001b[39;00m\n\u001b[1;32m     44\u001b[0m     )\n\u001b[1;32m     45\u001b[0m kwargs\u001b[39m.\u001b[39mupdate({k: arg \u001b[39mfor\u001b[39;00m k, arg \u001b[39min\u001b[39;00m \u001b[39mzip\u001b[39m(sig\u001b[39m.\u001b[39mparameters, args)})\n\u001b[0;32m---> 46\u001b[0m \u001b[39mreturn\u001b[39;00m f(\u001b[39m*\u001b[39;49m\u001b[39m*\u001b[39;49mkwargs)\n",
      "File \u001b[0;32m~/opt/anaconda3/lib/python3.9/site-packages/seaborn/axisgrid.py:2130\u001b[0m, in \u001b[0;36mpairplot\u001b[0;34m(data, hue, hue_order, palette, vars, x_vars, y_vars, kind, diag_kind, markers, height, aspect, corner, dropna, plot_kws, diag_kws, grid_kws, size)\u001b[0m\n\u001b[1;32m   2128\u001b[0m     diag_kws\u001b[39m.\u001b[39msetdefault(\u001b[39m\"\u001b[39m\u001b[39mfill\u001b[39m\u001b[39m\"\u001b[39m, \u001b[39mTrue\u001b[39;00m)\n\u001b[1;32m   2129\u001b[0m     diag_kws\u001b[39m.\u001b[39msetdefault(\u001b[39m\"\u001b[39m\u001b[39mwarn_singular\u001b[39m\u001b[39m\"\u001b[39m, \u001b[39mFalse\u001b[39;00m)\n\u001b[0;32m-> 2130\u001b[0m     grid\u001b[39m.\u001b[39;49mmap_diag(kdeplot, \u001b[39m*\u001b[39;49m\u001b[39m*\u001b[39;49mdiag_kws)\n\u001b[1;32m   2132\u001b[0m \u001b[39m# Maybe plot on the off-diagonals\u001b[39;00m\n\u001b[1;32m   2133\u001b[0m \u001b[39mif\u001b[39;00m diag_kind \u001b[39mis\u001b[39;00m \u001b[39mnot\u001b[39;00m \u001b[39mNone\u001b[39;00m:\n",
      "File \u001b[0;32m~/opt/anaconda3/lib/python3.9/site-packages/seaborn/axisgrid.py:1461\u001b[0m, in \u001b[0;36mPairGrid.map_diag\u001b[0;34m(self, func, **kwargs)\u001b[0m\n\u001b[1;32m   1458\u001b[0m \u001b[39melse\u001b[39;00m:\n\u001b[1;32m   1459\u001b[0m     plt\u001b[39m.\u001b[39msca(ax)\n\u001b[0;32m-> 1461\u001b[0m vector \u001b[39m=\u001b[39m \u001b[39mself\u001b[39;49m\u001b[39m.\u001b[39;49mdata[var]\n\u001b[1;32m   1462\u001b[0m \u001b[39mif\u001b[39;00m \u001b[39mself\u001b[39m\u001b[39m.\u001b[39m_hue_var \u001b[39mis\u001b[39;00m \u001b[39mnot\u001b[39;00m \u001b[39mNone\u001b[39;00m:\n\u001b[1;32m   1463\u001b[0m     hue \u001b[39m=\u001b[39m \u001b[39mself\u001b[39m\u001b[39m.\u001b[39mdata[\u001b[39mself\u001b[39m\u001b[39m.\u001b[39m_hue_var]\n",
      "File \u001b[0;32m~/opt/anaconda3/lib/python3.9/site-packages/pandas/core/frame.py:3505\u001b[0m, in \u001b[0;36mDataFrame.__getitem__\u001b[0;34m(self, key)\u001b[0m\n\u001b[1;32m   3503\u001b[0m \u001b[39mif\u001b[39;00m \u001b[39mself\u001b[39m\u001b[39m.\u001b[39mcolumns\u001b[39m.\u001b[39mnlevels \u001b[39m>\u001b[39m \u001b[39m1\u001b[39m:\n\u001b[1;32m   3504\u001b[0m     \u001b[39mreturn\u001b[39;00m \u001b[39mself\u001b[39m\u001b[39m.\u001b[39m_getitem_multilevel(key)\n\u001b[0;32m-> 3505\u001b[0m indexer \u001b[39m=\u001b[39m \u001b[39mself\u001b[39;49m\u001b[39m.\u001b[39;49mcolumns\u001b[39m.\u001b[39;49mget_loc(key)\n\u001b[1;32m   3506\u001b[0m \u001b[39mif\u001b[39;00m is_integer(indexer):\n\u001b[1;32m   3507\u001b[0m     indexer \u001b[39m=\u001b[39m [indexer]\n",
      "File \u001b[0;32m~/opt/anaconda3/lib/python3.9/site-packages/pandas/core/indexes/base.py:3623\u001b[0m, in \u001b[0;36mIndex.get_loc\u001b[0;34m(self, key, method, tolerance)\u001b[0m\n\u001b[1;32m   3621\u001b[0m     \u001b[39mreturn\u001b[39;00m \u001b[39mself\u001b[39m\u001b[39m.\u001b[39m_engine\u001b[39m.\u001b[39mget_loc(casted_key)\n\u001b[1;32m   3622\u001b[0m \u001b[39mexcept\u001b[39;00m \u001b[39mKeyError\u001b[39;00m \u001b[39mas\u001b[39;00m err:\n\u001b[0;32m-> 3623\u001b[0m     \u001b[39mraise\u001b[39;00m \u001b[39mKeyError\u001b[39;00m(key) \u001b[39mfrom\u001b[39;00m \u001b[39merr\u001b[39;00m\n\u001b[1;32m   3624\u001b[0m \u001b[39mexcept\u001b[39;00m \u001b[39mTypeError\u001b[39;00m:\n\u001b[1;32m   3625\u001b[0m     \u001b[39m# If we have a listlike key, _check_indexing_error will raise\u001b[39;00m\n\u001b[1;32m   3626\u001b[0m     \u001b[39m#  InvalidIndexError. Otherwise we fall through and re-raise\u001b[39;00m\n\u001b[1;32m   3627\u001b[0m     \u001b[39m#  the TypeError.\u001b[39;00m\n\u001b[1;32m   3628\u001b[0m     \u001b[39mself\u001b[39m\u001b[39m.\u001b[39m_check_indexing_error(key)\n",
      "\u001b[0;31mKeyError\u001b[0m: 'Minifigures'"
     ]
    },
    {
     "data": {
      "image/png": "[encoded data removed]",
      "text/plain": [
       "<Figure size 900x900 with 30 Axes>"
      ]
     },
     "metadata": {
      "needs_background": "light"
     },
     "output_type": "display_data"
    }
   ],
   "source": [
    "sns.pairplot(df2, vars = ['Price', 'Pieces', 'Pages', 'Minifigures', 'Unique_Pieces'],\n",
    "             hue = 'Theme', \n",
    "             diag_kind = 'kde',\n",
    "             plot_kws = dict(alpha = 0.4))\n",
    "plt.show()"
   ]
  },
  {
   "cell_type": "code",
   "execution_count": 78,
   "id": "25508f8d-3af0-422d-bd9c-1bde5ab698db",
   "metadata": {},
   "outputs": [
    {
     "data": {
      "text/html": [
       "<table class=\"simpletable\">\n",
       "<caption>OLS Regression Results</caption>\n",
       "<tr>\n",
       "  <th>Dep. Variable:</th>          <td>Price</td>      <th>  R-squared:         </th> <td>   0.004</td> \n",
       "</tr>\n",
       "<tr>\n",
       "  <th>Model:</th>                   <td>OLS</td>       <th>  Adj. R-squared:    </th> <td>   0.003</td> \n",
       "</tr>\n",
       "<tr>\n",
       "  <th>Method:</th>             <td>Least Squares</td>  <th>  F-statistic:       </th> <td>   3.584</td> \n",
       "</tr>\n",
       "<tr>\n",
       "  <th>Date:</th>             <td>Thu, 02 Nov 2023</td> <th>  Prob (F-statistic):</th>  <td>0.0586</td>  \n",
       "</tr>\n",
       "<tr>\n",
       "  <th>Time:</th>                 <td>09:24:44</td>     <th>  Log-Likelihood:    </th> <td> -5049.4</td> \n",
       "</tr>\n",
       "<tr>\n",
       "  <th>No. Observations:</th>      <td>   922</td>      <th>  AIC:               </th> <td>1.010e+04</td>\n",
       "</tr>\n",
       "<tr>\n",
       "  <th>Df Residuals:</th>          <td>   920</td>      <th>  BIC:               </th> <td>1.011e+04</td>\n",
       "</tr>\n",
       "<tr>\n",
       "  <th>Df Model:</th>              <td>     1</td>      <th>                     </th>     <td> </td>    \n",
       "</tr>\n",
       "<tr>\n",
       "  <th>Covariance Type:</th>      <td>nonrobust</td>    <th>                     </th>     <td> </td>    \n",
       "</tr>\n",
       "</table>\n",
       "<table class=\"simpletable\">\n",
       "<tr>\n",
       "           <td></td>              <th>coef</th>     <th>std err</th>      <th>t</th>      <th>P>|t|</th>  <th>[0.025</th>    <th>0.975]</th>  \n",
       "</tr>\n",
       "<tr>\n",
       "  <th>Intercept</th>           <td>   52.3419</td> <td>    3.369</td> <td>   15.535</td> <td> 0.000</td> <td>   45.729</td> <td>   58.955</td>\n",
       "</tr>\n",
       "<tr>\n",
       "  <th>Klassifisering_norm</th> <td>   -5.5228</td> <td>    2.917</td> <td>   -1.893</td> <td> 0.059</td> <td>  -11.248</td> <td>    0.202</td>\n",
       "</tr>\n",
       "</table>\n",
       "<table class=\"simpletable\">\n",
       "<tr>\n",
       "  <th>Omnibus:</th>       <td>841.318</td> <th>  Durbin-Watson:     </th> <td>   0.896</td> \n",
       "</tr>\n",
       "<tr>\n",
       "  <th>Prob(Omnibus):</th> <td> 0.000</td>  <th>  Jarque-Bera (JB):  </th> <td>31109.052</td>\n",
       "</tr>\n",
       "<tr>\n",
       "  <th>Skew:</th>          <td> 4.120</td>  <th>  Prob(JB):          </th> <td>    0.00</td> \n",
       "</tr>\n",
       "<tr>\n",
       "  <th>Kurtosis:</th>      <td>30.237</td>  <th>  Cond. No.          </th> <td>    3.26</td> \n",
       "</tr>\n",
       "</table><br/><br/>Notes:<br/>[1] Standard Errors assume that the covariance matrix of the errors is correctly specified."
      ],
      "text/plain": [
       "<class 'statsmodels.iolib.summary.Summary'>\n",
       "\"\"\"\n",
       "                            OLS Regression Results                            \n",
       "==============================================================================\n",
       "Dep. Variable:                  Price   R-squared:                       0.004\n",
       "Model:                            OLS   Adj. R-squared:                  0.003\n",
       "Method:                 Least Squares   F-statistic:                     3.584\n",
       "Date:                Thu, 02 Nov 2023   Prob (F-statistic):             0.0586\n",
       "Time:                        09:24:44   Log-Likelihood:                -5049.4\n",
       "No. Observations:                 922   AIC:                         1.010e+04\n",
       "Df Residuals:                     920   BIC:                         1.011e+04\n",
       "Df Model:                           1                                         \n",
       "Covariance Type:            nonrobust                                         \n",
       "=======================================================================================\n",
       "                          coef    std err          t      P>|t|      [0.025      0.975]\n",
       "---------------------------------------------------------------------------------------\n",
       "Intercept              52.3419      3.369     15.535      0.000      45.729      58.955\n",
       "Klassifisering_norm    -5.5228      2.917     -1.893      0.059     -11.248       0.202\n",
       "==============================================================================\n",
       "Omnibus:                      841.318   Durbin-Watson:                   0.896\n",
       "Prob(Omnibus):                  0.000   Jarque-Bera (JB):            31109.052\n",
       "Skew:                           4.120   Prob(JB):                         0.00\n",
       "Kurtosis:                      30.237   Cond. No.                         3.26\n",
       "==============================================================================\n",
       "\n",
       "Notes:\n",
       "[1] Standard Errors assume that the covariance matrix of the errors is correctly specified.\n",
       "\"\"\""
      ]
     },
     "execution_count": 78,
     "metadata": {},
     "output_type": "execute_result"
    }
   ],
   "source": [
    "# enkel lineær regresjon\n",
    "formel = 'Price ~ Klassifisering_norm'\n",
    "\n",
    "modell = smf.ols(formel, data = df2)\n",
    "resultat = modell.fit()\n",
    "\n",
    "resultat.summary()"
   ]
  },
  {
   "cell_type": "code",
   "execution_count": 107,
   "id": "1070f251-dbcc-4eef-bf0d-b3ba2485a548",
   "metadata": {},
   "outputs": [
    {
     "data": {
      "image/png": "[encoded data removed]",
      "text/plain": [
       "<Figure size 432x288 with 1 Axes>"
      ]
     },
     "metadata": {
      "needs_background": "light"
     },
     "output_type": "display_data"
    }
   ],
   "source": [
    "slope = resultat.params['Klassifisering_norm']\n",
    "intercept = resultat.params['Intercept']\n",
    "\n",
    "regression_x = np.array(df2['Klassifisering_norm'])\n",
    "\n",
    "regression_y = slope * regression_x + intercept\n",
    "\n",
    "plt.scatter(df2['Klassifisering_norm'], df2['Price'], label='Data Points')\n",
    "plt.plot(regression_x, regression_y, color='red', label='Regression Line')\n",
    "plt.xlabel('N / B / G')\n",
    "plt.ylabel('Pris [$]')\n",
    "plt.title('Kryssplott med regresjonslinje (enkel LR)')\n",
    "plt.legend()\n",
    "plt.grid()\n",
    "plt.show()"
   ]
  },
  {
   "cell_type": "code",
   "execution_count": 65,
   "id": "70323c17-289b-4322-a086-f22b0b4ac188",
   "metadata": {},
   "outputs": [
    {
     "data": {
      "image/png": "[encoded data removed]",
      "text/plain": [
       "<Figure size 1080x360 with 2 Axes>"
      ]
     },
     "metadata": {
      "needs_background": "light"
     },
     "output_type": "display_data"
    }
   ],
   "source": [
    "figure, axis = plt.subplots(1, 2, figsize = (15, 5))\n",
    "sns.scatterplot(x = resultat.fittedvalues, y = resultat.resid, ax = axis[0])\n",
    "axis[0].set_ylabel(\"Residual\")\n",
    "axis[0].set_xlabel(\"Predikert verdi\")\n",
    "\n",
    "sm.qqplot(resultat.resid, line = '45', fit = True, ax = axis[1])\n",
    "axis[1].set_ylabel(\"Kvantiler i residualene\")\n",
    "axis[1].set_xlabel(\"Kvantiler i normalfordelingen\")\n",
    "plt.show()"
   ]
  },
  {
   "cell_type": "code",
   "execution_count": 95,
   "id": "f3b4e53e-487f-48a9-a52a-bad8e40f4358",
   "metadata": {},
   "outputs": [
    {
     "ename": "KeyError",
     "evalue": "'Minifigures'",
     "output_type": "error",
     "traceback": [
      "\u001b[0;31m---------------------------------------------------------------------------\u001b[0m",
      "\u001b[0;31mKeyError\u001b[0m                                  Traceback (most recent call last)",
      "File \u001b[0;32m~/opt/anaconda3/lib/python3.9/site-packages/pandas/core/indexes/base.py:3621\u001b[0m, in \u001b[0;36mIndex.get_loc\u001b[0;34m(self, key, method, tolerance)\u001b[0m\n\u001b[1;32m   3620\u001b[0m \u001b[39mtry\u001b[39;00m:\n\u001b[0;32m-> 3621\u001b[0m     \u001b[39mreturn\u001b[39;00m \u001b[39mself\u001b[39;49m\u001b[39m.\u001b[39;49m_engine\u001b[39m.\u001b[39;49mget_loc(casted_key)\n\u001b[1;32m   3622\u001b[0m \u001b[39mexcept\u001b[39;00m \u001b[39mKeyError\u001b[39;00m \u001b[39mas\u001b[39;00m err:\n",
      "File \u001b[0;32m~/opt/anaconda3/lib/python3.9/site-packages/pandas/_libs/index.pyx:136\u001b[0m, in \u001b[0;36mpandas._libs.index.IndexEngine.get_loc\u001b[0;34m()\u001b[0m\n",
      "File \u001b[0;32m~/opt/anaconda3/lib/python3.9/site-packages/pandas/_libs/index.pyx:163\u001b[0m, in \u001b[0;36mpandas._libs.index.IndexEngine.get_loc\u001b[0;34m()\u001b[0m\n",
      "File \u001b[0;32mpandas/_libs/hashtable_class_helper.pxi:5198\u001b[0m, in \u001b[0;36mpandas._libs.hashtable.PyObjectHashTable.get_item\u001b[0;34m()\u001b[0m\n",
      "File \u001b[0;32mpandas/_libs/hashtable_class_helper.pxi:5206\u001b[0m, in \u001b[0;36mpandas._libs.hashtable.PyObjectHashTable.get_item\u001b[0;34m()\u001b[0m\n",
      "\u001b[0;31mKeyError\u001b[0m: 'Minifigures'",
      "\nThe above exception was the direct cause of the following exception:\n",
      "\u001b[0;31mKeyError\u001b[0m                                  Traceback (most recent call last)",
      "\u001b[1;32m/Users/magnusgjerstad/Desktop/NTNU/StatestikkProjekt/oppg1.ipynb Cell 20\u001b[0m line \u001b[0;36m<cell line: 3>\u001b[0;34m()\u001b[0m\n\u001b[1;32m      <a href='vscode-notebook-cell:/Users/magnusgjerstad/Desktop/NTNU/StatestikkProjekt/oppg1.ipynb#X25sZmlsZQ%3D%3D?line=0'>1</a>\u001b[0m mythemes \u001b[39m=\u001b[39m [\u001b[39m'\u001b[39m\u001b[39mStar Wars\u001b[39m\u001b[39m'\u001b[39m, \u001b[39m'\u001b[39m\u001b[39mNINJAGO\u001b[39m\u001b[39m'\u001b[39m, \u001b[39m'\u001b[39m\u001b[39mHarry Potter\u001b[39m\u001b[39m'\u001b[39m]\n\u001b[1;32m      <a href='vscode-notebook-cell:/Users/magnusgjerstad/Desktop/NTNU/StatestikkProjekt/oppg1.ipynb#X25sZmlsZQ%3D%3D?line=1'>2</a>\u001b[0m subset_df \u001b[39m=\u001b[39m df2[df2[\u001b[39m'\u001b[39m\u001b[39mTheme\u001b[39m\u001b[39m'\u001b[39m]\u001b[39m.\u001b[39misin(mythemes)]\n\u001b[0;32m----> <a href='vscode-notebook-cell:/Users/magnusgjerstad/Desktop/NTNU/StatestikkProjekt/oppg1.ipynb#X25sZmlsZQ%3D%3D?line=2'>3</a>\u001b[0m sns\u001b[39m.\u001b[39;49mpairplot(subset_df, \u001b[39mvars\u001b[39;49m \u001b[39m=\u001b[39;49m [\u001b[39m'\u001b[39;49m\u001b[39mPrice\u001b[39;49m\u001b[39m'\u001b[39;49m, \u001b[39m'\u001b[39;49m\u001b[39mPieces\u001b[39;49m\u001b[39m'\u001b[39;49m, \u001b[39m'\u001b[39;49m\u001b[39mPages\u001b[39;49m\u001b[39m'\u001b[39;49m, \u001b[39m'\u001b[39;49m\u001b[39mMinifigures\u001b[39;49m\u001b[39m'\u001b[39;49m, \u001b[39m'\u001b[39;49m\u001b[39mUnique_Pieces\u001b[39;49m\u001b[39m'\u001b[39;49m],\n\u001b[1;32m      <a href='vscode-notebook-cell:/Users/magnusgjerstad/Desktop/NTNU/StatestikkProjekt/oppg1.ipynb#X25sZmlsZQ%3D%3D?line=3'>4</a>\u001b[0m              hue \u001b[39m=\u001b[39;49m \u001b[39m'\u001b[39;49m\u001b[39mTheme\u001b[39;49m\u001b[39m'\u001b[39;49m, \n\u001b[1;32m      <a href='vscode-notebook-cell:/Users/magnusgjerstad/Desktop/NTNU/StatestikkProjekt/oppg1.ipynb#X25sZmlsZQ%3D%3D?line=4'>5</a>\u001b[0m              diag_kind \u001b[39m=\u001b[39;49m \u001b[39m'\u001b[39;49m\u001b[39mkde\u001b[39;49m\u001b[39m'\u001b[39;49m,\n\u001b[1;32m      <a href='vscode-notebook-cell:/Users/magnusgjerstad/Desktop/NTNU/StatestikkProjekt/oppg1.ipynb#X25sZmlsZQ%3D%3D?line=5'>6</a>\u001b[0m              plot_kws \u001b[39m=\u001b[39;49m \u001b[39mdict\u001b[39;49m(alpha \u001b[39m=\u001b[39;49m \u001b[39m0.4\u001b[39;49m))\n\u001b[1;32m      <a href='vscode-notebook-cell:/Users/magnusgjerstad/Desktop/NTNU/StatestikkProjekt/oppg1.ipynb#X25sZmlsZQ%3D%3D?line=6'>7</a>\u001b[0m plt\u001b[39m.\u001b[39mshow()\n",
      "File \u001b[0;32m~/opt/anaconda3/lib/python3.9/site-packages/seaborn/_decorators.py:46\u001b[0m, in \u001b[0;36m_deprecate_positional_args.<locals>.inner_f\u001b[0;34m(*args, **kwargs)\u001b[0m\n\u001b[1;32m     36\u001b[0m     warnings\u001b[39m.\u001b[39mwarn(\n\u001b[1;32m     37\u001b[0m         \u001b[39m\"\u001b[39m\u001b[39mPass the following variable\u001b[39m\u001b[39m{}\u001b[39;00m\u001b[39m as \u001b[39m\u001b[39m{}\u001b[39;00m\u001b[39mkeyword arg\u001b[39m\u001b[39m{}\u001b[39;00m\u001b[39m: \u001b[39m\u001b[39m{}\u001b[39;00m\u001b[39m. \u001b[39m\u001b[39m\"\u001b[39m\n\u001b[1;32m     38\u001b[0m         \u001b[39m\"\u001b[39m\u001b[39mFrom version 0.12, the only valid positional argument \u001b[39m\u001b[39m\"\u001b[39m\n\u001b[0;32m   (...)\u001b[0m\n\u001b[1;32m     43\u001b[0m         \u001b[39mFutureWarning\u001b[39;00m\n\u001b[1;32m     44\u001b[0m     )\n\u001b[1;32m     45\u001b[0m kwargs\u001b[39m.\u001b[39mupdate({k: arg \u001b[39mfor\u001b[39;00m k, arg \u001b[39min\u001b[39;00m \u001b[39mzip\u001b[39m(sig\u001b[39m.\u001b[39mparameters, args)})\n\u001b[0;32m---> 46\u001b[0m \u001b[39mreturn\u001b[39;00m f(\u001b[39m*\u001b[39;49m\u001b[39m*\u001b[39;49mkwargs)\n",
      "File \u001b[0;32m~/opt/anaconda3/lib/python3.9/site-packages/seaborn/axisgrid.py:2130\u001b[0m, in \u001b[0;36mpairplot\u001b[0;34m(data, hue, hue_order, palette, vars, x_vars, y_vars, kind, diag_kind, markers, height, aspect, corner, dropna, plot_kws, diag_kws, grid_kws, size)\u001b[0m\n\u001b[1;32m   2128\u001b[0m     diag_kws\u001b[39m.\u001b[39msetdefault(\u001b[39m\"\u001b[39m\u001b[39mfill\u001b[39m\u001b[39m\"\u001b[39m, \u001b[39mTrue\u001b[39;00m)\n\u001b[1;32m   2129\u001b[0m     diag_kws\u001b[39m.\u001b[39msetdefault(\u001b[39m\"\u001b[39m\u001b[39mwarn_singular\u001b[39m\u001b[39m\"\u001b[39m, \u001b[39mFalse\u001b[39;00m)\n\u001b[0;32m-> 2130\u001b[0m     grid\u001b[39m.\u001b[39;49mmap_diag(kdeplot, \u001b[39m*\u001b[39;49m\u001b[39m*\u001b[39;49mdiag_kws)\n\u001b[1;32m   2132\u001b[0m \u001b[39m# Maybe plot on the off-diagonals\u001b[39;00m\n\u001b[1;32m   2133\u001b[0m \u001b[39mif\u001b[39;00m diag_kind \u001b[39mis\u001b[39;00m \u001b[39mnot\u001b[39;00m \u001b[39mNone\u001b[39;00m:\n",
      "File \u001b[0;32m~/opt/anaconda3/lib/python3.9/site-packages/seaborn/axisgrid.py:1461\u001b[0m, in \u001b[0;36mPairGrid.map_diag\u001b[0;34m(self, func, **kwargs)\u001b[0m\n\u001b[1;32m   1458\u001b[0m \u001b[39melse\u001b[39;00m:\n\u001b[1;32m   1459\u001b[0m     plt\u001b[39m.\u001b[39msca(ax)\n\u001b[0;32m-> 1461\u001b[0m vector \u001b[39m=\u001b[39m \u001b[39mself\u001b[39;49m\u001b[39m.\u001b[39;49mdata[var]\n\u001b[1;32m   1462\u001b[0m \u001b[39mif\u001b[39;00m \u001b[39mself\u001b[39m\u001b[39m.\u001b[39m_hue_var \u001b[39mis\u001b[39;00m \u001b[39mnot\u001b[39;00m \u001b[39mNone\u001b[39;00m:\n\u001b[1;32m   1463\u001b[0m     hue \u001b[39m=\u001b[39m \u001b[39mself\u001b[39m\u001b[39m.\u001b[39mdata[\u001b[39mself\u001b[39m\u001b[39m.\u001b[39m_hue_var]\n",
      "File \u001b[0;32m~/opt/anaconda3/lib/python3.9/site-packages/pandas/core/frame.py:3505\u001b[0m, in \u001b[0;36mDataFrame.__getitem__\u001b[0;34m(self, key)\u001b[0m\n\u001b[1;32m   3503\u001b[0m \u001b[39mif\u001b[39;00m \u001b[39mself\u001b[39m\u001b[39m.\u001b[39mcolumns\u001b[39m.\u001b[39mnlevels \u001b[39m>\u001b[39m \u001b[39m1\u001b[39m:\n\u001b[1;32m   3504\u001b[0m     \u001b[39mreturn\u001b[39;00m \u001b[39mself\u001b[39m\u001b[39m.\u001b[39m_getitem_multilevel(key)\n\u001b[0;32m-> 3505\u001b[0m indexer \u001b[39m=\u001b[39m \u001b[39mself\u001b[39;49m\u001b[39m.\u001b[39;49mcolumns\u001b[39m.\u001b[39;49mget_loc(key)\n\u001b[1;32m   3506\u001b[0m \u001b[39mif\u001b[39;00m is_integer(indexer):\n\u001b[1;32m   3507\u001b[0m     indexer \u001b[39m=\u001b[39m [indexer]\n",
      "File \u001b[0;32m~/opt/anaconda3/lib/python3.9/site-packages/pandas/core/indexes/base.py:3623\u001b[0m, in \u001b[0;36mIndex.get_loc\u001b[0;34m(self, key, method, tolerance)\u001b[0m\n\u001b[1;32m   3621\u001b[0m     \u001b[39mreturn\u001b[39;00m \u001b[39mself\u001b[39m\u001b[39m.\u001b[39m_engine\u001b[39m.\u001b[39mget_loc(casted_key)\n\u001b[1;32m   3622\u001b[0m \u001b[39mexcept\u001b[39;00m \u001b[39mKeyError\u001b[39;00m \u001b[39mas\u001b[39;00m err:\n\u001b[0;32m-> 3623\u001b[0m     \u001b[39mraise\u001b[39;00m \u001b[39mKeyError\u001b[39;00m(key) \u001b[39mfrom\u001b[39;00m \u001b[39merr\u001b[39;00m\n\u001b[1;32m   3624\u001b[0m \u001b[39mexcept\u001b[39;00m \u001b[39mTypeError\u001b[39;00m:\n\u001b[1;32m   3625\u001b[0m     \u001b[39m# If we have a listlike key, _check_indexing_error will raise\u001b[39;00m\n\u001b[1;32m   3626\u001b[0m     \u001b[39m#  InvalidIndexError. Otherwise we fall through and re-raise\u001b[39;00m\n\u001b[1;32m   3627\u001b[0m     \u001b[39m#  the TypeError.\u001b[39;00m\n\u001b[1;32m   3628\u001b[0m     \u001b[39mself\u001b[39m\u001b[39m.\u001b[39m_check_indexing_error(key)\n",
      "\u001b[0;31mKeyError\u001b[0m: 'Minifigures'"
     ]
    },
    {
     "data": {
      "image/png": "[encoded data removed]",
      "text/plain": [
       "<Figure size 900x900 with 30 Axes>"
      ]
     },
     "metadata": {
      "needs_background": "light"
     },
     "output_type": "display_data"
    }
   ],
   "source": [
    "mythemes = ['Star Wars', 'NINJAGO', 'Harry Potter']\n",
    "subset_df = df2[df2['Theme'].isin(mythemes)]\n",
    "sns.pairplot(subset_df, vars = ['Price', 'Pieces', 'Pages', 'Minifigures', 'Unique_Pieces'],\n",
    "             hue = 'Theme', \n",
    "             diag_kind = 'kde',\n",
    "             plot_kws = dict(alpha = 0.4))\n",
    "plt.show()"
   ]
  },
  {
   "cell_type": "code",
   "execution_count": 88,
   "id": "b15426d8-5785-4fe6-9058-8efed012385f",
   "metadata": {},
   "outputs": [],
   "source": [
    "# enkel lineær regresjon, tar ikke hensyn til tema\n",
    "res_sub = smf.ols('Price ~ Pieces' , data = subset_df).fit()"
   ]
  },
  {
   "cell_type": "code",
   "execution_count": 91,
   "id": "c716f5a1-2394-437a-875a-aaa0564481ef",
   "metadata": {},
   "outputs": [],
   "source": [
    "# enkel LR for hvert tema hver for seg\n",
    "resultater = []\n",
    "for i, theme in enumerate(mythemes):\n",
    "    modell3 = smf.ols('Price ~ Pieces' , data = subset_df[subset_df['Theme'].isin([theme])])\n",
    "    resultater.append(modell3.fit())"
   ]
  },
  {
   "cell_type": "code",
   "execution_count": 93,
   "id": "e243b26f-1e71-497a-bc8f-00ca575187f4",
   "metadata": {},
   "outputs": [
    {
     "data": {
      "image/png": "[encoded data removed]",
      "text/plain": [
       "<Figure size 432x288 with 1 Axes>"
      ]
     },
     "metadata": {
      "needs_background": "light"
     },
     "output_type": "display_data"
    }
   ],
   "source": [
    "# plott av dataene og regresjonslinjene\n",
    "for i, theme in enumerate(mythemes):\n",
    "    slope = resultater[i].params['Pieces']\n",
    "    intercept = resultater[i].params['Intercept']\n",
    "\n",
    "    regression_x = np.array(subset_df[subset_df['Theme'].isin([theme])]['Pieces'])\n",
    "    regression_y = slope * regression_x + intercept\n",
    "\n",
    "    # Plot scatter plot and regression line\n",
    "    plt.scatter(subset_df[subset_df['Theme'].isin([theme])]['Pieces'], subset_df[subset_df['Theme'].isin([theme])]['Pieces'], color=plt.cm.tab10(i))\n",
    "    plt.plot(regression_x, regression_y, color=plt.cm.tab10(i), label=theme)\n",
    "    \n",
    "plt.xlabel('Antall brikker')\n",
    "plt.ylabel('Pris')\n",
    "plt.title('Kryssplott med regresjonslinjer')\n",
    "plt.legend()\n",
    "plt.grid()\n",
    "plt.show()"
   ]
  },
  {
   "cell_type": "markdown",
   "id": "b74f53aa-c8f6-4666-8c4b-f345af966d5b",
   "metadata": {
    "tags": []
   },
   "source": [
    "## "
   ]
  },
  {
   "cell_type": "code",
   "execution_count": 9,
   "id": "49d534ed-af6a-473b-8e53-aa7970058585",
   "metadata": {},
   "outputs": [
    {
     "ename": "PatsyError",
     "evalue": "error tokenizing input (maybe an unclosed string?)\n    Price ~ Pieces + Klassifisering_norm + \"Ages_norm\n                                          ^",
     "output_type": "error",
     "traceback": [
      "\u001b[0;31m---------------------------------------------------------------------------\u001b[0m",
      "\u001b[0;31mPatsyError\u001b[0m                                Traceback (most recent call last)",
      "\u001b[1;32m/Users/magnusgjerstad/Desktop/NTNU/StatestikkProjekt/oppg1.ipynb Cell 25\u001b[0m line \u001b[0;36m<cell line: 2>\u001b[0;34m()\u001b[0m\n\u001b[1;32m      <a href='vscode-notebook-cell:/Users/magnusgjerstad/Desktop/NTNU/StatestikkProjekt/oppg1.ipynb#X33sZmlsZQ%3D%3D?line=0'>1</a>\u001b[0m \u001b[39m# multippel lineær regresjon\u001b[39;00m\n\u001b[0;32m----> <a href='vscode-notebook-cell:/Users/magnusgjerstad/Desktop/NTNU/StatestikkProjekt/oppg1.ipynb#X33sZmlsZQ%3D%3D?line=1'>2</a>\u001b[0m modell3_mlr \u001b[39m=\u001b[39m smf\u001b[39m.\u001b[39;49mols(\u001b[39m'\u001b[39;49m\u001b[39mPrice ~ Pieces + Klassifisering_norm + \u001b[39;49m\u001b[39m\"\u001b[39;49m\u001b[39mAges_norm\u001b[39;49m\u001b[39m'\u001b[39;49m   , data \u001b[39m=\u001b[39;49m df2)\n\u001b[1;32m      <a href='vscode-notebook-cell:/Users/magnusgjerstad/Desktop/NTNU/StatestikkProjekt/oppg1.ipynb#X33sZmlsZQ%3D%3D?line=2'>3</a>\u001b[0m modell3_mlr\u001b[39m.\u001b[39mfit()\u001b[39m.\u001b[39msummary()\n",
      "File \u001b[0;32m~/opt/anaconda3/lib/python3.9/site-packages/statsmodels/base/model.py:200\u001b[0m, in \u001b[0;36mModel.from_formula\u001b[0;34m(cls, formula, data, subset, drop_cols, *args, **kwargs)\u001b[0m\n\u001b[1;32m    197\u001b[0m \u001b[39mif\u001b[39;00m missing \u001b[39m==\u001b[39m \u001b[39m'\u001b[39m\u001b[39mnone\u001b[39m\u001b[39m'\u001b[39m:  \u001b[39m# with patsy it's drop or raise. let's raise.\u001b[39;00m\n\u001b[1;32m    198\u001b[0m     missing \u001b[39m=\u001b[39m \u001b[39m'\u001b[39m\u001b[39mraise\u001b[39m\u001b[39m'\u001b[39m\n\u001b[0;32m--> 200\u001b[0m tmp \u001b[39m=\u001b[39m handle_formula_data(data, \u001b[39mNone\u001b[39;49;00m, formula, depth\u001b[39m=\u001b[39;49meval_env,\n\u001b[1;32m    201\u001b[0m                           missing\u001b[39m=\u001b[39;49mmissing)\n\u001b[1;32m    202\u001b[0m ((endog, exog), missing_idx, design_info) \u001b[39m=\u001b[39m tmp\n\u001b[1;32m    203\u001b[0m max_endog \u001b[39m=\u001b[39m \u001b[39mcls\u001b[39m\u001b[39m.\u001b[39m_formula_max_endog\n",
      "File \u001b[0;32m~/opt/anaconda3/lib/python3.9/site-packages/statsmodels/formula/formulatools.py:63\u001b[0m, in \u001b[0;36mhandle_formula_data\u001b[0;34m(Y, X, formula, depth, missing)\u001b[0m\n\u001b[1;32m     61\u001b[0m \u001b[39melse\u001b[39;00m:\n\u001b[1;32m     62\u001b[0m     \u001b[39mif\u001b[39;00m data_util\u001b[39m.\u001b[39m_is_using_pandas(Y, \u001b[39mNone\u001b[39;00m):\n\u001b[0;32m---> 63\u001b[0m         result \u001b[39m=\u001b[39m dmatrices(formula, Y, depth, return_type\u001b[39m=\u001b[39;49m\u001b[39m'\u001b[39;49m\u001b[39mdataframe\u001b[39;49m\u001b[39m'\u001b[39;49m,\n\u001b[1;32m     64\u001b[0m                            NA_action\u001b[39m=\u001b[39;49mna_action)\n\u001b[1;32m     65\u001b[0m     \u001b[39melse\u001b[39;00m:\n\u001b[1;32m     66\u001b[0m         result \u001b[39m=\u001b[39m dmatrices(formula, Y, depth, return_type\u001b[39m=\u001b[39m\u001b[39m'\u001b[39m\u001b[39mdataframe\u001b[39m\u001b[39m'\u001b[39m,\n\u001b[1;32m     67\u001b[0m                            NA_action\u001b[39m=\u001b[39mna_action)\n",
      "File \u001b[0;32m~/opt/anaconda3/lib/python3.9/site-packages/patsy/highlevel.py:309\u001b[0m, in \u001b[0;36mdmatrices\u001b[0;34m(formula_like, data, eval_env, NA_action, return_type)\u001b[0m\n\u001b[1;32m    299\u001b[0m \u001b[39m\"\"\"Construct two design matrices given a formula_like and data.\u001b[39;00m\n\u001b[1;32m    300\u001b[0m \n\u001b[1;32m    301\u001b[0m \u001b[39mThis function is identical to :func:`dmatrix`, except that it requires\u001b[39;00m\n\u001b[0;32m   (...)\u001b[0m\n\u001b[1;32m    306\u001b[0m \u001b[39mSee :func:`dmatrix` for details.\u001b[39;00m\n\u001b[1;32m    307\u001b[0m \u001b[39m\"\"\"\u001b[39;00m\n\u001b[1;32m    308\u001b[0m eval_env \u001b[39m=\u001b[39m EvalEnvironment\u001b[39m.\u001b[39mcapture(eval_env, reference\u001b[39m=\u001b[39m\u001b[39m1\u001b[39m)\n\u001b[0;32m--> 309\u001b[0m (lhs, rhs) \u001b[39m=\u001b[39m _do_highlevel_design(formula_like, data, eval_env,\n\u001b[1;32m    310\u001b[0m                                   NA_action, return_type)\n\u001b[1;32m    311\u001b[0m \u001b[39mif\u001b[39;00m lhs\u001b[39m.\u001b[39mshape[\u001b[39m1\u001b[39m] \u001b[39m==\u001b[39m \u001b[39m0\u001b[39m:\n\u001b[1;32m    312\u001b[0m     \u001b[39mraise\u001b[39;00m PatsyError(\u001b[39m\"\u001b[39m\u001b[39mmodel is missing required outcome variables\u001b[39m\u001b[39m\"\u001b[39m)\n",
      "File \u001b[0;32m~/opt/anaconda3/lib/python3.9/site-packages/patsy/highlevel.py:164\u001b[0m, in \u001b[0;36m_do_highlevel_design\u001b[0;34m(formula_like, data, eval_env, NA_action, return_type)\u001b[0m\n\u001b[1;32m    162\u001b[0m \u001b[39mdef\u001b[39;00m \u001b[39mdata_iter_maker\u001b[39m():\n\u001b[1;32m    163\u001b[0m     \u001b[39mreturn\u001b[39;00m \u001b[39miter\u001b[39m([data])\n\u001b[0;32m--> 164\u001b[0m design_infos \u001b[39m=\u001b[39m _try_incr_builders(formula_like, data_iter_maker, eval_env,\n\u001b[1;32m    165\u001b[0m                                   NA_action)\n\u001b[1;32m    166\u001b[0m \u001b[39mif\u001b[39;00m design_infos \u001b[39mis\u001b[39;00m \u001b[39mnot\u001b[39;00m \u001b[39mNone\u001b[39;00m:\n\u001b[1;32m    167\u001b[0m     \u001b[39mreturn\u001b[39;00m build_design_matrices(design_infos, data,\n\u001b[1;32m    168\u001b[0m                                  NA_action\u001b[39m=\u001b[39mNA_action,\n\u001b[1;32m    169\u001b[0m                                  return_type\u001b[39m=\u001b[39mreturn_type)\n",
      "File \u001b[0;32m~/opt/anaconda3/lib/python3.9/site-packages/patsy/highlevel.py:62\u001b[0m, in \u001b[0;36m_try_incr_builders\u001b[0;34m(formula_like, data_iter_maker, eval_env, NA_action)\u001b[0m\n\u001b[1;32m     55\u001b[0m         \u001b[39mraise\u001b[39;00m PatsyError(\n\u001b[1;32m     56\u001b[0m             \u001b[39m\"\u001b[39m\u001b[39mOn Python 2, formula strings must be either \u001b[39m\u001b[39m'\u001b[39m\u001b[39mstr\u001b[39m\u001b[39m'\u001b[39m\u001b[39m objects, \u001b[39m\u001b[39m\"\u001b[39m\n\u001b[1;32m     57\u001b[0m             \u001b[39m\"\u001b[39m\u001b[39mor else \u001b[39m\u001b[39m'\u001b[39m\u001b[39municode\u001b[39m\u001b[39m'\u001b[39m\u001b[39m objects containing only ascii \u001b[39m\u001b[39m\"\u001b[39m\n\u001b[1;32m     58\u001b[0m             \u001b[39m\"\u001b[39m\u001b[39mcharacters. You passed a unicode string with non-ascii \u001b[39m\u001b[39m\"\u001b[39m\n\u001b[1;32m     59\u001b[0m             \u001b[39m\"\u001b[39m\u001b[39mcharacters. I\u001b[39m\u001b[39m'\u001b[39m\u001b[39mm afraid you\u001b[39m\u001b[39m'\u001b[39m\u001b[39mll have to either switch to \u001b[39m\u001b[39m\"\u001b[39m\n\u001b[1;32m     60\u001b[0m             \u001b[39m\"\u001b[39m\u001b[39mascii-only, or else upgrade to Python 3.\u001b[39m\u001b[39m\"\u001b[39m)\n\u001b[1;32m     61\u001b[0m \u001b[39mif\u001b[39;00m \u001b[39misinstance\u001b[39m(formula_like, \u001b[39mstr\u001b[39m):\n\u001b[0;32m---> 62\u001b[0m     formula_like \u001b[39m=\u001b[39m ModelDesc\u001b[39m.\u001b[39;49mfrom_formula(formula_like)\n\u001b[1;32m     63\u001b[0m     \u001b[39m# fallthrough\u001b[39;00m\n\u001b[1;32m     64\u001b[0m \u001b[39mif\u001b[39;00m \u001b[39misinstance\u001b[39m(formula_like, ModelDesc):\n",
      "File \u001b[0;32m~/opt/anaconda3/lib/python3.9/site-packages/patsy/desc.py:164\u001b[0m, in \u001b[0;36mModelDesc.from_formula\u001b[0;34m(cls, tree_or_string)\u001b[0m\n\u001b[1;32m    162\u001b[0m     tree \u001b[39m=\u001b[39m tree_or_string\n\u001b[1;32m    163\u001b[0m \u001b[39melse\u001b[39;00m:\n\u001b[0;32m--> 164\u001b[0m     tree \u001b[39m=\u001b[39m parse_formula(tree_or_string)\n\u001b[1;32m    165\u001b[0m value \u001b[39m=\u001b[39m Evaluator()\u001b[39m.\u001b[39meval(tree, require_evalexpr\u001b[39m=\u001b[39m\u001b[39mFalse\u001b[39;00m)\n\u001b[1;32m    166\u001b[0m \u001b[39massert\u001b[39;00m \u001b[39misinstance\u001b[39m(value, \u001b[39mcls\u001b[39m)\n",
      "File \u001b[0;32m~/opt/anaconda3/lib/python3.9/site-packages/patsy/parse_formula.py:146\u001b[0m, in \u001b[0;36mparse_formula\u001b[0;34m(code, extra_operators)\u001b[0m\n\u001b[1;32m    144\u001b[0m operators \u001b[39m=\u001b[39m _default_ops \u001b[39m+\u001b[39m extra_operators\n\u001b[1;32m    145\u001b[0m operator_strings \u001b[39m=\u001b[39m [op\u001b[39m.\u001b[39mtoken_type \u001b[39mfor\u001b[39;00m op \u001b[39min\u001b[39;00m operators]\n\u001b[0;32m--> 146\u001b[0m tree \u001b[39m=\u001b[39m infix_parse(_tokenize_formula(code, operator_strings),\n\u001b[1;32m    147\u001b[0m                    operators,\n\u001b[1;32m    148\u001b[0m                    _atomic_token_types)\n\u001b[1;32m    149\u001b[0m \u001b[39mif\u001b[39;00m \u001b[39mnot\u001b[39;00m \u001b[39misinstance\u001b[39m(tree, ParseNode) \u001b[39mor\u001b[39;00m tree\u001b[39m.\u001b[39mtype \u001b[39m!=\u001b[39m \u001b[39m\"\u001b[39m\u001b[39m~\u001b[39m\u001b[39m\"\u001b[39m:\n\u001b[1;32m    150\u001b[0m     tree \u001b[39m=\u001b[39m ParseNode(\u001b[39m\"\u001b[39m\u001b[39m~\u001b[39m\u001b[39m\"\u001b[39m, \u001b[39mNone\u001b[39;00m, [tree], tree\u001b[39m.\u001b[39morigin)\n",
      "File \u001b[0;32m~/opt/anaconda3/lib/python3.9/site-packages/patsy/infix_parser.py:210\u001b[0m, in \u001b[0;36minfix_parse\u001b[0;34m(tokens, operators, atomic_types, trace)\u001b[0m\n\u001b[1;32m    205\u001b[0m \u001b[39m# This is an implementation of Dijkstra's shunting yard algorithm:\u001b[39;00m\n\u001b[1;32m    206\u001b[0m \u001b[39m#   http://en.wikipedia.org/wiki/Shunting_yard_algorithm\u001b[39;00m\n\u001b[1;32m    207\u001b[0m \u001b[39m#   http://www.engr.mun.ca/~theo/Misc/exp_parsing.htm\u001b[39;00m\n\u001b[1;32m    209\u001b[0m want_noun \u001b[39m=\u001b[39m \u001b[39mTrue\u001b[39;00m\n\u001b[0;32m--> 210\u001b[0m \u001b[39mfor\u001b[39;00m token \u001b[39min\u001b[39;00m token_source:\n\u001b[1;32m    211\u001b[0m     \u001b[39mif\u001b[39;00m c\u001b[39m.\u001b[39mtrace:\n\u001b[1;32m    212\u001b[0m         \u001b[39mprint\u001b[39m(\u001b[39m\"\u001b[39m\u001b[39mReading next token (want_noun=\u001b[39m\u001b[39m%r\u001b[39;00m\u001b[39m)\u001b[39m\u001b[39m\"\u001b[39m \u001b[39m%\u001b[39m (want_noun,))\n",
      "File \u001b[0;32m~/opt/anaconda3/lib/python3.9/site-packages/patsy/parse_formula.py:89\u001b[0m, in \u001b[0;36m_tokenize_formula\u001b[0;34m(code, operator_strings)\u001b[0m\n\u001b[1;32m     86\u001b[0m end_tokens\u001b[39m.\u001b[39mremove(\u001b[39m\"\u001b[39m\u001b[39m(\u001b[39m\u001b[39m\"\u001b[39m)\n\u001b[1;32m     88\u001b[0m it \u001b[39m=\u001b[39m PushbackAdapter(python_tokenize(code))\n\u001b[0;32m---> 89\u001b[0m \u001b[39mfor\u001b[39;00m pytype, token_string, origin \u001b[39min\u001b[39;00m it:\n\u001b[1;32m     90\u001b[0m     \u001b[39mif\u001b[39;00m token_string \u001b[39min\u001b[39;00m magic_token_types:\n\u001b[1;32m     91\u001b[0m         \u001b[39myield\u001b[39;00m Token(magic_token_types[token_string], origin)\n",
      "File \u001b[0;32m~/opt/anaconda3/lib/python3.9/site-packages/patsy/util.py:349\u001b[0m, in \u001b[0;36mPushbackAdapter.next\u001b[0;34m(self)\u001b[0m\n\u001b[1;32m    346\u001b[0m     \u001b[39mreturn\u001b[39;00m \u001b[39mself\u001b[39m\u001b[39m.\u001b[39m_pushed\u001b[39m.\u001b[39mpop()\n\u001b[1;32m    347\u001b[0m \u001b[39melse\u001b[39;00m:\n\u001b[1;32m    348\u001b[0m     \u001b[39m# May raise StopIteration\u001b[39;00m\n\u001b[0;32m--> 349\u001b[0m     \u001b[39mreturn\u001b[39;00m six\u001b[39m.\u001b[39;49madvance_iterator(\u001b[39mself\u001b[39;49m\u001b[39m.\u001b[39;49m_it)\n",
      "File \u001b[0;32m~/opt/anaconda3/lib/python3.9/site-packages/patsy/tokens.py:40\u001b[0m, in \u001b[0;36mpython_tokenize\u001b[0;34m(code)\u001b[0m\n\u001b[1;32m     38\u001b[0m     \u001b[39mcontinue\u001b[39;00m\n\u001b[1;32m     39\u001b[0m \u001b[39mif\u001b[39;00m pytype \u001b[39m==\u001b[39m tokenize\u001b[39m.\u001b[39mERRORTOKEN:\n\u001b[0;32m---> 40\u001b[0m     \u001b[39mraise\u001b[39;00m PatsyError(\u001b[39m\"\u001b[39m\u001b[39merror tokenizing input \u001b[39m\u001b[39m\"\u001b[39m\n\u001b[1;32m     41\u001b[0m                      \u001b[39m\"\u001b[39m\u001b[39m(maybe an unclosed string?)\u001b[39m\u001b[39m\"\u001b[39m,\n\u001b[1;32m     42\u001b[0m                      origin)\n\u001b[1;32m     43\u001b[0m \u001b[39mif\u001b[39;00m pytype \u001b[39m==\u001b[39m tokenize\u001b[39m.\u001b[39mCOMMENT:\n\u001b[1;32m     44\u001b[0m     \u001b[39mraise\u001b[39;00m PatsyError(\u001b[39m\"\u001b[39m\u001b[39mcomments are not allowed\u001b[39m\u001b[39m\"\u001b[39m, origin)\n",
      "\u001b[0;31mPatsyError\u001b[0m: error tokenizing input (maybe an unclosed string?)\n    Price ~ Pieces + Klassifisering_norm + \"Ages_norm\n                                          ^"
     ]
    }
   ],
   "source": [
    "# multippel lineær regresjon\n",
    "modell3_mlr = smf.ols('Price ~ Pieces + Klassifisering_norm + \"Ages_norm'   , data = df2)\n",
    "modell3_mlr.fit().summary()"
   ]
  },
  {
   "cell_type": "code",
   "execution_count": 82,
   "id": "2ef89cc9-011a-4c4c-b2e6-8a062c47ccea",
   "metadata": {},
   "outputs": [
    {
     "data": {
      "text/html": [
       "<table class=\"simpletable\">\n",
       "<caption>OLS Regression Results</caption>\n",
       "<tr>\n",
       "  <th>Dep. Variable:</th>          <td>Price</td>      <th>  R-squared:         </th> <td>   0.867</td>\n",
       "</tr>\n",
       "<tr>\n",
       "  <th>Model:</th>                   <td>OLS</td>       <th>  Adj. R-squared:    </th> <td>   0.865</td>\n",
       "</tr>\n",
       "<tr>\n",
       "  <th>Method:</th>             <td>Least Squares</td>  <th>  F-statistic:       </th> <td>   448.1</td>\n",
       "</tr>\n",
       "<tr>\n",
       "  <th>Date:</th>             <td>Thu, 02 Nov 2023</td> <th>  Prob (F-statistic):</th> <td>5.61e-90</td>\n",
       "</tr>\n",
       "<tr>\n",
       "  <th>Time:</th>                 <td>09:25:15</td>     <th>  Log-Likelihood:    </th> <td> -976.53</td>\n",
       "</tr>\n",
       "<tr>\n",
       "  <th>No. Observations:</th>      <td>   210</td>      <th>  AIC:               </th> <td>   1961.</td>\n",
       "</tr>\n",
       "<tr>\n",
       "  <th>Df Residuals:</th>          <td>   206</td>      <th>  BIC:               </th> <td>   1974.</td>\n",
       "</tr>\n",
       "<tr>\n",
       "  <th>Df Model:</th>              <td>     3</td>      <th>                     </th>     <td> </td>   \n",
       "</tr>\n",
       "<tr>\n",
       "  <th>Covariance Type:</th>      <td>nonrobust</td>    <th>                     </th>     <td> </td>   \n",
       "</tr>\n",
       "</table>\n",
       "<table class=\"simpletable\">\n",
       "<tr>\n",
       "                          <td></td>                            <th>coef</th>     <th>std err</th>      <th>t</th>      <th>P>|t|</th>  <th>[0.025</th>    <th>0.975]</th>  \n",
       "</tr>\n",
       "<tr>\n",
       "  <th>Intercept</th>                                        <td>   12.5292</td> <td>    2.745</td> <td>    4.564</td> <td> 0.000</td> <td>    7.117</td> <td>   17.942</td>\n",
       "</tr>\n",
       "<tr>\n",
       "  <th>C(Theme, Treatment(\"Star Wars\"))[T.Harry Potter]</th> <td>  -17.7823</td> <td>    6.009</td> <td>   -2.959</td> <td> 0.003</td> <td>  -29.630</td> <td>   -5.934</td>\n",
       "</tr>\n",
       "<tr>\n",
       "  <th>C(Theme, Treatment(\"Star Wars\"))[T.NINJAGO]</th>      <td>  -15.0787</td> <td>    3.785</td> <td>   -3.984</td> <td> 0.000</td> <td>  -22.541</td> <td>   -7.616</td>\n",
       "</tr>\n",
       "<tr>\n",
       "  <th>Pieces</th>                                           <td>    0.0946</td> <td>    0.003</td> <td>   36.185</td> <td> 0.000</td> <td>    0.089</td> <td>    0.100</td>\n",
       "</tr>\n",
       "</table>\n",
       "<table class=\"simpletable\">\n",
       "<tr>\n",
       "  <th>Omnibus:</th>       <td>170.947</td> <th>  Durbin-Watson:     </th> <td>   1.713</td> \n",
       "</tr>\n",
       "<tr>\n",
       "  <th>Prob(Omnibus):</th> <td> 0.000</td>  <th>  Jarque-Bera (JB):  </th> <td>16680.355</td>\n",
       "</tr>\n",
       "<tr>\n",
       "  <th>Skew:</th>          <td> 2.280</td>  <th>  Prob(JB):          </th> <td>    0.00</td> \n",
       "</tr>\n",
       "<tr>\n",
       "  <th>Kurtosis:</th>      <td>46.423</td>  <th>  Cond. No.          </th> <td>2.98e+03</td> \n",
       "</tr>\n",
       "</table><br/><br/>Notes:<br/>[1] Standard Errors assume that the covariance matrix of the errors is correctly specified.<br/>[2] The condition number is large, 2.98e+03. This might indicate that there are<br/>strong multicollinearity or other numerical problems."
      ],
      "text/plain": [
       "<class 'statsmodels.iolib.summary.Summary'>\n",
       "\"\"\"\n",
       "                            OLS Regression Results                            \n",
       "==============================================================================\n",
       "Dep. Variable:                  Price   R-squared:                       0.867\n",
       "Model:                            OLS   Adj. R-squared:                  0.865\n",
       "Method:                 Least Squares   F-statistic:                     448.1\n",
       "Date:                Thu, 02 Nov 2023   Prob (F-statistic):           5.61e-90\n",
       "Time:                        09:25:15   Log-Likelihood:                -976.53\n",
       "No. Observations:                 210   AIC:                             1961.\n",
       "Df Residuals:                     206   BIC:                             1974.\n",
       "Df Model:                           3                                         \n",
       "Covariance Type:            nonrobust                                         \n",
       "====================================================================================================================\n",
       "                                                       coef    std err          t      P>|t|      [0.025      0.975]\n",
       "--------------------------------------------------------------------------------------------------------------------\n",
       "Intercept                                           12.5292      2.745      4.564      0.000       7.117      17.942\n",
       "C(Theme, Treatment(\"Star Wars\"))[T.Harry Potter]   -17.7823      6.009     -2.959      0.003     -29.630      -5.934\n",
       "C(Theme, Treatment(\"Star Wars\"))[T.NINJAGO]        -15.0787      3.785     -3.984      0.000     -22.541      -7.616\n",
       "Pieces                                               0.0946      0.003     36.185      0.000       0.089       0.100\n",
       "==============================================================================\n",
       "Omnibus:                      170.947   Durbin-Watson:                   1.713\n",
       "Prob(Omnibus):                  0.000   Jarque-Bera (JB):            16680.355\n",
       "Skew:                           2.280   Prob(JB):                         0.00\n",
       "Kurtosis:                      46.423   Cond. No.                     2.98e+03\n",
       "==============================================================================\n",
       "\n",
       "Notes:\n",
       "[1] Standard Errors assume that the covariance matrix of the errors is correctly specified.\n",
       "[2] The condition number is large, 2.98e+03. This might indicate that there are\n",
       "strong multicollinearity or other numerical problems.\n",
       "\"\"\""
      ]
     },
     "execution_count": 82,
     "metadata": {},
     "output_type": "execute_result"
    }
   ],
   "source": [
    "# multippel lineær regresjon med en annen referansekategori\n",
    "modell3_mlr_alt = smf.ols('Price ~ Pieces + C(Theme, Treatment(\"Star Wars\"))' , data = subset_df)\n",
    "modell3_mlr_alt.fit().summary()"
   ]
  },
  {
   "cell_type": "code",
   "execution_count": 83,
   "id": "cec66e98-e93b-4970-b6e8-b9d0abf233ea",
   "metadata": {},
   "outputs": [
    {
     "data": {
      "image/png": "[encoded data removed]",
      "text/plain": [
       "<Figure size 432x288 with 1 Axes>"
      ]
     },
     "metadata": {
      "needs_background": "light"
     },
     "output_type": "display_data"
    }
   ],
   "source": [
    "# plott\n",
    "intercept = [modell3_mlr.fit().params['Theme[T.Star Wars]'], modell3_mlr.fit().params['Theme[T.NINJAGO]'], 0] + modell3_mlr.fit().params['Intercept']\n",
    "slope = modell3_mlr.fit().params['Pieces']\n",
    "\n",
    "for i, theme in enumerate(mythemes):\n",
    "\n",
    "    regression_x = np.array(subset_df[subset_df['Theme'].isin([theme])]['Pieces'])\n",
    "    regression_y = slope * regression_x + intercept[i]\n",
    "\n",
    "    # Plot scatter plot and regression line\n",
    "    plt.scatter(subset_df[subset_df['Theme'].isin([theme])]['Pieces'], subset_df[subset_df['Theme'].isin([theme])]['Price'], color = plt.cm.tab10(i))\n",
    "    plt.plot(regression_x, regression_y, color=plt.cm.tab10(i), label=theme)\n",
    "    \n",
    "# uten tema som forklaringsvariabel:\n",
    "regression_x = np.array(subset_df['Pieces'])\n",
    "regression_y = res_sub.params['Pieces'] * regression_x + res_sub.params['Intercept']\n",
    "plt.plot(regression_x, regression_y, color='black', label = 'No theme')\n",
    "    \n",
    "plt.xlabel('Antall brikker')\n",
    "plt.ylabel('Pris')\n",
    "plt.title('Kryssplott med regresjonslinjer')\n",
    "plt.legend()\n",
    "plt.grid()\n",
    "plt.show()"
   ]
  },
  {
   "cell_type": "code",
   "execution_count": 106,
   "id": "81290810-1694-426e-8520-e05bac625763",
   "metadata": {},
   "outputs": [
    {
     "data": {
      "text/html": [
       "<table class=\"simpletable\">\n",
       "<caption>OLS Regression Results</caption>\n",
       "<tr>\n",
       "  <th>Dep. Variable:</th>          <td>Price</td>      <th>  R-squared:         </th> <td>   0.897</td> \n",
       "</tr>\n",
       "<tr>\n",
       "  <th>Model:</th>                   <td>OLS</td>       <th>  Adj. R-squared:    </th> <td>   0.895</td> \n",
       "</tr>\n",
       "<tr>\n",
       "  <th>Method:</th>             <td>Least Squares</td>  <th>  F-statistic:       </th> <td>   596.7</td> \n",
       "</tr>\n",
       "<tr>\n",
       "  <th>Date:</th>             <td>Thu, 02 Nov 2023</td> <th>  Prob (F-statistic):</th> <td>2.81e-101</td>\n",
       "</tr>\n",
       "<tr>\n",
       "  <th>Time:</th>                 <td>09:32:26</td>     <th>  Log-Likelihood:    </th> <td> -949.99</td> \n",
       "</tr>\n",
       "<tr>\n",
       "  <th>No. Observations:</th>      <td>   210</td>      <th>  AIC:               </th> <td>   1908.</td> \n",
       "</tr>\n",
       "<tr>\n",
       "  <th>Df Residuals:</th>          <td>   206</td>      <th>  BIC:               </th> <td>   1921.</td> \n",
       "</tr>\n",
       "<tr>\n",
       "  <th>Df Model:</th>              <td>     3</td>      <th>                     </th>     <td> </td>    \n",
       "</tr>\n",
       "<tr>\n",
       "  <th>Covariance Type:</th>      <td>nonrobust</td>    <th>                     </th>     <td> </td>    \n",
       "</tr>\n",
       "</table>\n",
       "<table class=\"simpletable\">\n",
       "<tr>\n",
       "               <td></td>                 <th>coef</th>     <th>std err</th>      <th>t</th>      <th>P>|t|</th>  <th>[0.025</th>    <th>0.975]</th>  \n",
       "</tr>\n",
       "<tr>\n",
       "  <th>Intercept</th>                  <td>   16.8126</td> <td>    5.684</td> <td>    2.958</td> <td> 0.003</td> <td>    5.605</td> <td>   28.020</td>\n",
       "</tr>\n",
       "<tr>\n",
       "  <th>Pieces</th>                     <td>    0.0652</td> <td>    0.004</td> <td>   16.132</td> <td> 0.000</td> <td>    0.057</td> <td>    0.073</td>\n",
       "</tr>\n",
       "<tr>\n",
       "  <th>Klassifisering_norm</th>        <td>  -17.2959</td> <td>    6.058</td> <td>   -2.855</td> <td> 0.005</td> <td>  -29.239</td> <td>   -5.353</td>\n",
       "</tr>\n",
       "<tr>\n",
       "  <th>Pieces:Klassifisering_norm</th> <td>    0.0439</td> <td>    0.005</td> <td>    8.927</td> <td> 0.000</td> <td>    0.034</td> <td>    0.054</td>\n",
       "</tr>\n",
       "</table>\n",
       "<table class=\"simpletable\">\n",
       "<tr>\n",
       "  <th>Omnibus:</th>       <td>87.381</td> <th>  Durbin-Watson:     </th> <td>   1.551</td>\n",
       "</tr>\n",
       "<tr>\n",
       "  <th>Prob(Omnibus):</th> <td> 0.000</td> <th>  Jarque-Bera (JB):  </th> <td>8378.190</td>\n",
       "</tr>\n",
       "<tr>\n",
       "  <th>Skew:</th>          <td> 0.407</td> <th>  Prob(JB):          </th> <td>    0.00</td>\n",
       "</tr>\n",
       "<tr>\n",
       "  <th>Kurtosis:</th>      <td>33.933</td> <th>  Cond. No.          </th> <td>5.56e+03</td>\n",
       "</tr>\n",
       "</table><br/><br/>Notes:<br/>[1] Standard Errors assume that the covariance matrix of the errors is correctly specified.<br/>[2] The condition number is large, 5.56e+03. This might indicate that there are<br/>strong multicollinearity or other numerical problems."
      ],
      "text/plain": [
       "<class 'statsmodels.iolib.summary.Summary'>\n",
       "\"\"\"\n",
       "                            OLS Regression Results                            \n",
       "==============================================================================\n",
       "Dep. Variable:                  Price   R-squared:                       0.897\n",
       "Model:                            OLS   Adj. R-squared:                  0.895\n",
       "Method:                 Least Squares   F-statistic:                     596.7\n",
       "Date:                Thu, 02 Nov 2023   Prob (F-statistic):          2.81e-101\n",
       "Time:                        09:32:26   Log-Likelihood:                -949.99\n",
       "No. Observations:                 210   AIC:                             1908.\n",
       "Df Residuals:                     206   BIC:                             1921.\n",
       "Df Model:                           3                                         \n",
       "Covariance Type:            nonrobust                                         \n",
       "==============================================================================================\n",
       "                                 coef    std err          t      P>|t|      [0.025      0.975]\n",
       "----------------------------------------------------------------------------------------------\n",
       "Intercept                     16.8126      5.684      2.958      0.003       5.605      28.020\n",
       "Pieces                         0.0652      0.004     16.132      0.000       0.057       0.073\n",
       "Klassifisering_norm          -17.2959      6.058     -2.855      0.005     -29.239      -5.353\n",
       "Pieces:Klassifisering_norm     0.0439      0.005      8.927      0.000       0.034       0.054\n",
       "==============================================================================\n",
       "Omnibus:                       87.381   Durbin-Watson:                   1.551\n",
       "Prob(Omnibus):                  0.000   Jarque-Bera (JB):             8378.190\n",
       "Skew:                           0.407   Prob(JB):                         0.00\n",
       "Kurtosis:                      33.933   Cond. No.                     5.56e+03\n",
       "==============================================================================\n",
       "\n",
       "Notes:\n",
       "[1] Standard Errors assume that the covariance matrix of the errors is correctly specified.\n",
       "[2] The condition number is large, 5.56e+03. This might indicate that there are\n",
       "strong multicollinearity or other numerical problems.\n",
       "\"\"\""
      ]
     },
     "execution_count": 106,
     "metadata": {},
     "output_type": "execute_result"
    }
   ],
   "source": [
    "# med interaksjonsledd mellom antall brikker og tema\n",
    "modell3_mlri = smf.ols('Price ~ Pieces*Klassifisering_norm' , data = subset_df)\n",
    "modell3_mlri.fit().summary()\n",
    "\n",
    "\n",
    "\n"
   ]
  },
  {
   "cell_type": "code",
   "execution_count": null,
   "id": "ab55e4bb-7630-4db3-a90e-718f57b8eaed",
   "metadata": {},
   "outputs": [],
   "source": [
    "# plott\n",
    "intercept = [modell3_mlri.fit().params['Theme[T.Star Wars]'], modell3_mlri.fit().params['Theme[T.NINJAGO]'], 0] + modell3_mlri.fit().params['Intercept']\n",
    "slope = [modell3_mlri.fit().params['Pieces:Theme[T.Star Wars]'], modell3_mlri.fit().params['Pieces:Theme[T.NINJAGO]'], 0] + modell3_mlri.fit().params['Pieces']\n",
    "\n",
    "for i, theme in enumerate(mythemes):\n",
    "\n",
    "    regression_x = np.array(subset_df[subset_df['Theme'].isin([theme])]['Pieces'])\n",
    "    regression_y = slope[i] * regression_x + intercept[i]\n",
    "\n",
    "    # Plot scatter plot and regression line\n",
    "    plt.scatter(subset_df[subset_df['Theme'].isin([theme])]['Pieces'], subset_df[subset_df['Theme'].isin([theme])]['Price'], color=plt.cm.tab10(i))\n",
    "    plt.plot(regression_x, regression_y, color=plt.cm.tab10(i), label=theme)\n",
    "    \n",
    "# uten tema som forklaringsvariabel:\n",
    "regression_x = np.array(subset_df['Pieces'])\n",
    "regression_y = res_sub.params['Pieces'] * regression_x + res_sub.params['Intercept']\n",
    "plt.plot(regression_x, regression_y, color='black', label='Theme unaccounted for')\n",
    "    \n",
    "plt.xlabel('Antall brikker')\n",
    "plt.ylabel('Pris [$]')\n",
    "plt.title('Kryssplott med regresjonslinjer')\n",
    "plt.legend()\n",
    "plt.grid()\n",
    "plt.show()"
   ]
  },
  {
   "cell_type": "code",
   "execution_count": null,
   "id": "a31d7edd-dc4b-4357-9684-34ad078db2e7",
   "metadata": {},
   "outputs": [],
   "source": [
    "# Kode for å lagre plot som (.png)\n",
    "## fjern 'plt.show()' og erstatt med:\n",
    "# plt.savefig('my_plot.png')"
   ]
  },
  {
   "cell_type": "code",
   "execution_count": null,
   "id": "a4e71738-bb4b-4370-9dfa-12208feef41c",
   "metadata": {},
   "outputs": [],
   "source": [
    "# Steg 5: Evaluere om modellen passer til dataene\n",
    "# Plotte predikert verdi mot residual\n",
    "figure, axis = plt.subplots(1, 2, figsize = (15, 5))\n",
    "sns.scatterplot(x = modell3_mlri.fit().fittedvalues, y = modell3_mlri.fit().resid, ax = axis[0])\n",
    "axis[0].set_ylabel(\"Residual\")\n",
    "axis[0].set_xlabel(\"Predikert verdi\")\n",
    "\n",
    "# Lage kvantil-kvantil-plott for residualene\n",
    "sm.qqplot(modell3_mlri.fit().resid, line = '45', fit = True, ax = axis[1])\n",
    "axis[1].set_ylabel(\"Kvantiler i residualene\")\n",
    "axis[1].set_xlabel(\"Kvantiler i normalfordelingen\")\n",
    "plt.show()"
   ]
  },
  {
   "cell_type": "code",
   "execution_count": null,
   "id": "be8e578c-bad1-4a97-bbcc-ecb7471d8be7",
   "metadata": {},
   "outputs": [],
   "source": [
    "# Gruppere temaer i nye grupper:\n",
    "# (Harry Potter, NINJAGO og Star Wars havner i én gruppe, City og Friends i en annen, og alle andre i en tredje)\n",
    "df2['cat'] = np.where(df2['Theme'].isin(['Harry Potter', 'NINJAGO', 'Star Wars']), 'Cat1', \n",
    "                      np.where(df2['Theme'].isin(['City', 'Friends']), 'Cat2', 'Cat3'))\n",
    "df2.groupby(['cat']).size().reset_index(name = 'Count')"
   ]
  },
  {
   "cell_type": "code",
   "execution_count": null,
   "id": "7aea77d8-754c-49b9-b622-06dd3c65ba87",
   "metadata": {},
   "outputs": [],
   "source": [
    "df2.groupby(['cat', 'Theme']).size().reset_index(name = 'Count')"
   ]
  },
  {
   "cell_type": "code",
   "execution_count": null,
   "id": "bf0fd14b-8020-41f5-8707-77fb1f2cf807",
   "metadata": {},
   "outputs": [],
   "source": []
  }
 ],
 "metadata": {
  "kernelspec": {
   "display_name": "Python 3",
   "language": "python",
   "name": "python3"
  },
  "language_info": {
   "codemirror_mode": {
    "name": "ipython",
    "version": 3
   },
   "file_extension": ".py",
   "mimetype": "text/x-python",
   "name": "python",
   "nbconvert_exporter": "python",
   "pygments_lexer": "ipython3",
   "version": "3.9.12"
  }
 },
 "nbformat": 4,
 "nbformat_minor": 5
}
