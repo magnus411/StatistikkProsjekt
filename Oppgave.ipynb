{
 "cells": [
  {
   "cell_type": "code",
   "execution_count": 1,
   "metadata": {},
   "outputs": [],
   "source": [
    "import numpy as np\n",
    "import pandas as pd\n",
    "import matplotlib.pyplot as plt\n",
    "import seaborn as sns\n",
    "\n",
    "from scipy import stats\n",
    "import statsmodels.formula.api as smf\n",
    "import statsmodels.api as sm\n",
    "\n",
    "\n"
   ]
  },
  {
   "cell_type": "code",
   "execution_count": 2,
   "metadata": {},
   "outputs": [],
   "source": [
    "df = pd.read_csv(\"lego.population.csv\", sep=\",\", encoding=\"latin1\")\n",
    "# fjerner forklaringsvariabler vi ikke trenger\n",
    "\n",
    "\n",
    "df2 = df[\n",
    "    [\"Set_Name\", \"Theme\", \"Klassifisering\", \"Price\", \"Pages\", \"Pieces\", \"Unique_Pieces\"]\n",
    "]\n",
    "\n",
    "# fjerner observasjoner med manglende datapunkter\n",
    "df2 = df2.dropna()\n",
    "\n",
    "klassifisering_mapping = {\"N\": 0, \"B\": 1, \"G\": 2}\n",
    "df2[\"Klassifisering_norm\"] = df2[\"Klassifisering\"].map(klassifisering_mapping)\n",
    "\n",
    "# gjør themes om til string og fjern alle tegn vi ikke vil ha med\n",
    "df2[\"Theme\"] = df2[\"Theme\"].astype(str)\n",
    "df2[\"Theme\"] = df2[\"Theme\"].str.replace(r\"[^a-zA-Z0-9\\s-]\", \"\", regex=True)\n",
    "\n",
    "# fjerner dollartegn og trademark-tegn fra datasettet\n",
    "df2[\"Price\"] = df2[\"Price\"].str.replace(\"\\$\", \"\", regex=True)\n",
    "\n",
    "# og gjør så prisen om til float\n",
    "df2[\"Price\"] = df2[\"Price\"].astype(float)"
   ]
  },
  {
   "cell_type": "code",
   "execution_count": 3,
   "metadata": {},
   "outputs": [
    {
     "data": {
      "text/html": [
       "<table class=\"simpletable\">\n",
       "<caption>OLS Regression Results</caption>\n",
       "<tr>\n",
       "  <th>Dep. Variable:</th>          <td>Price</td>      <th>  R-squared:         </th> <td>   0.004</td> \n",
       "</tr>\n",
       "<tr>\n",
       "  <th>Model:</th>                   <td>OLS</td>       <th>  Adj. R-squared:    </th> <td>   0.003</td> \n",
       "</tr>\n",
       "<tr>\n",
       "  <th>Method:</th>             <td>Least Squares</td>  <th>  F-statistic:       </th> <td>   3.584</td> \n",
       "</tr>\n",
       "<tr>\n",
       "  <th>Date:</th>             <td>Thu, 02 Nov 2023</td> <th>  Prob (F-statistic):</th>  <td>0.0586</td>  \n",
       "</tr>\n",
       "<tr>\n",
       "  <th>Time:</th>                 <td>10:54:42</td>     <th>  Log-Likelihood:    </th> <td> -5049.4</td> \n",
       "</tr>\n",
       "<tr>\n",
       "  <th>No. Observations:</th>      <td>   922</td>      <th>  AIC:               </th> <td>1.010e+04</td>\n",
       "</tr>\n",
       "<tr>\n",
       "  <th>Df Residuals:</th>          <td>   920</td>      <th>  BIC:               </th> <td>1.011e+04</td>\n",
       "</tr>\n",
       "<tr>\n",
       "  <th>Df Model:</th>              <td>     1</td>      <th>                     </th>     <td> </td>    \n",
       "</tr>\n",
       "<tr>\n",
       "  <th>Covariance Type:</th>      <td>nonrobust</td>    <th>                     </th>     <td> </td>    \n",
       "</tr>\n",
       "</table>\n",
       "<table class=\"simpletable\">\n",
       "<tr>\n",
       "           <td></td>              <th>coef</th>     <th>std err</th>      <th>t</th>      <th>P>|t|</th>  <th>[0.025</th>    <th>0.975]</th>  \n",
       "</tr>\n",
       "<tr>\n",
       "  <th>Intercept</th>           <td>   52.3419</td> <td>    3.369</td> <td>   15.535</td> <td> 0.000</td> <td>   45.729</td> <td>   58.955</td>\n",
       "</tr>\n",
       "<tr>\n",
       "  <th>Klassifisering_norm</th> <td>   -5.5228</td> <td>    2.917</td> <td>   -1.893</td> <td> 0.059</td> <td>  -11.248</td> <td>    0.202</td>\n",
       "</tr>\n",
       "</table>\n",
       "<table class=\"simpletable\">\n",
       "<tr>\n",
       "  <th>Omnibus:</th>       <td>841.318</td> <th>  Durbin-Watson:     </th> <td>   0.896</td> \n",
       "</tr>\n",
       "<tr>\n",
       "  <th>Prob(Omnibus):</th> <td> 0.000</td>  <th>  Jarque-Bera (JB):  </th> <td>31109.052</td>\n",
       "</tr>\n",
       "<tr>\n",
       "  <th>Skew:</th>          <td> 4.120</td>  <th>  Prob(JB):          </th> <td>    0.00</td> \n",
       "</tr>\n",
       "<tr>\n",
       "  <th>Kurtosis:</th>      <td>30.237</td>  <th>  Cond. No.          </th> <td>    3.26</td> \n",
       "</tr>\n",
       "</table><br/><br/>Notes:<br/>[1] Standard Errors assume that the covariance matrix of the errors is correctly specified."
      ],
      "text/plain": [
       "<class 'statsmodels.iolib.summary.Summary'>\n",
       "\"\"\"\n",
       "                            OLS Regression Results                            \n",
       "==============================================================================\n",
       "Dep. Variable:                  Price   R-squared:                       0.004\n",
       "Model:                            OLS   Adj. R-squared:                  0.003\n",
       "Method:                 Least Squares   F-statistic:                     3.584\n",
       "Date:                Thu, 02 Nov 2023   Prob (F-statistic):             0.0586\n",
       "Time:                        10:54:42   Log-Likelihood:                -5049.4\n",
       "No. Observations:                 922   AIC:                         1.010e+04\n",
       "Df Residuals:                     920   BIC:                         1.011e+04\n",
       "Df Model:                           1                                         \n",
       "Covariance Type:            nonrobust                                         \n",
       "=======================================================================================\n",
       "                          coef    std err          t      P>|t|      [0.025      0.975]\n",
       "---------------------------------------------------------------------------------------\n",
       "Intercept              52.3419      3.369     15.535      0.000      45.729      58.955\n",
       "Klassifisering_norm    -5.5228      2.917     -1.893      0.059     -11.248       0.202\n",
       "==============================================================================\n",
       "Omnibus:                      841.318   Durbin-Watson:                   0.896\n",
       "Prob(Omnibus):                  0.000   Jarque-Bera (JB):            31109.052\n",
       "Skew:                           4.120   Prob(JB):                         0.00\n",
       "Kurtosis:                      30.237   Cond. No.                         3.26\n",
       "==============================================================================\n",
       "\n",
       "Notes:\n",
       "[1] Standard Errors assume that the covariance matrix of the errors is correctly specified.\n",
       "\"\"\""
      ]
     },
     "execution_count": 3,
     "metadata": {},
     "output_type": "execute_result"
    }
   ],
   "source": [
    "formel = 'Price ~ Klassifisering_norm'\n",
    "\n",
    "modell = smf.ols(formel, data = df2)\n",
    "resultat = modell.fit()\n",
    "\n",
    "resultat.summary()"
   ]
  },
  {
   "cell_type": "code",
   "execution_count": 4,
   "metadata": {},
   "outputs": [
    {
     "data": {
      "image/png": "[encoded data removed]",
      "text/plain": [
       "<Figure size 432x288 with 1 Axes>"
      ]
     },
     "metadata": {
      "needs_background": "light"
     },
     "output_type": "display_data"
    }
   ],
   "source": [
    "slope = resultat.params['Klassifisering_norm']\n",
    "intercept = resultat.params['Intercept']\n",
    "\n",
    "regression_x = np.array(df2['Klassifisering_norm'])\n",
    "\n",
    "regression_y = slope * regression_x + intercept\n",
    "\n",
    "plt.scatter(df2['Klassifisering_norm'], df2['Price'], label='Data Points')\n",
    "plt.plot(regression_x, regression_y, color='red', label='Regression Line')\n",
    "plt.xlabel('N / B / G')\n",
    "plt.ylabel('Pris [$]')\n",
    "plt.title('Kryssplott med regresjonslinje (enkel LR)')\n",
    "plt.legend()\n",
    "plt.grid()\n",
    "plt.show()"
   ]
  },
  {
   "cell_type": "code",
   "execution_count": 6,
   "metadata": {},
   "outputs": [
    {
     "name": "stdout",
     "output_type": "stream",
     "text": [
      "922\n",
      "922\n",
      "922\n"
     ]
    }
   ],
   "source": [
    "print(len(df2['Klassifisering_norm']))\n",
    "print(len(df2['Price']))\n",
    "print(len(df2['Pieces']))"
   ]
  },
  {
   "cell_type": "code",
   "execution_count": 18,
   "metadata": {},
   "outputs": [],
   "source": [
    "# multippel lineær regresjon\n",
    "modell3_mlr = smf.ols('Price ~ Pieces + Klassifisering_norm' , data = df2)\n",
    "results_mlr = modell3_mlr.fit()\n",
    "summary_mlr = results_mlr.summary()\n"
   ]
  },
  {
   "cell_type": "code",
   "execution_count": 19,
   "metadata": {},
   "outputs": [
    {
     "data": {
      "image/png": "[encoded data removed]",
      "text/plain": [
       "<Figure size 432x288 with 1 Axes>"
      ]
     },
     "metadata": {
      "needs_background": "light"
     },
     "output_type": "display_data"
    },
    {
     "data": {
      "text/html": [
       "<table class=\"simpletable\">\n",
       "<caption>OLS Regression Results</caption>\n",
       "<tr>\n",
       "  <th>Dep. Variable:</th>          <td>Price</td>      <th>  R-squared:         </th> <td>   0.856</td>\n",
       "</tr>\n",
       "<tr>\n",
       "  <th>Model:</th>                   <td>OLS</td>       <th>  Adj. R-squared:    </th> <td>   0.856</td>\n",
       "</tr>\n",
       "<tr>\n",
       "  <th>Method:</th>             <td>Least Squares</td>  <th>  F-statistic:       </th> <td>   2732.</td>\n",
       "</tr>\n",
       "<tr>\n",
       "  <th>Date:</th>             <td>Thu, 02 Nov 2023</td> <th>  Prob (F-statistic):</th>  <td>  0.00</td> \n",
       "</tr>\n",
       "<tr>\n",
       "  <th>Time:</th>                 <td>11:08:52</td>     <th>  Log-Likelihood:    </th> <td> -4157.7</td>\n",
       "</tr>\n",
       "<tr>\n",
       "  <th>No. Observations:</th>      <td>   922</td>      <th>  AIC:               </th> <td>   8321.</td>\n",
       "</tr>\n",
       "<tr>\n",
       "  <th>Df Residuals:</th>          <td>   919</td>      <th>  BIC:               </th> <td>   8336.</td>\n",
       "</tr>\n",
       "<tr>\n",
       "  <th>Df Model:</th>              <td>     2</td>      <th>                     </th>     <td> </td>   \n",
       "</tr>\n",
       "<tr>\n",
       "  <th>Covariance Type:</th>      <td>nonrobust</td>    <th>                     </th>     <td> </td>   \n",
       "</tr>\n",
       "</table>\n",
       "<table class=\"simpletable\">\n",
       "<tr>\n",
       "           <td></td>              <th>coef</th>     <th>std err</th>      <th>t</th>      <th>P>|t|</th>  <th>[0.025</th>    <th>0.975]</th>  \n",
       "</tr>\n",
       "<tr>\n",
       "  <th>Intercept</th>           <td>    5.7689</td> <td>    1.429</td> <td>    4.037</td> <td> 0.000</td> <td>    2.965</td> <td>    8.573</td>\n",
       "</tr>\n",
       "<tr>\n",
       "  <th>Pieces</th>              <td>    0.0875</td> <td>    0.001</td> <td>   73.747</td> <td> 0.000</td> <td>    0.085</td> <td>    0.090</td>\n",
       "</tr>\n",
       "<tr>\n",
       "  <th>Klassifisering_norm</th> <td>    3.1235</td> <td>    1.116</td> <td>    2.799</td> <td> 0.005</td> <td>    0.934</td> <td>    5.314</td>\n",
       "</tr>\n",
       "</table>\n",
       "<table class=\"simpletable\">\n",
       "<tr>\n",
       "  <th>Omnibus:</th>       <td>737.023</td> <th>  Durbin-Watson:     </th> <td>   1.246</td> \n",
       "</tr>\n",
       "<tr>\n",
       "  <th>Prob(Omnibus):</th> <td> 0.000</td>  <th>  Jarque-Bera (JB):  </th> <td>44856.684</td>\n",
       "</tr>\n",
       "<tr>\n",
       "  <th>Skew:</th>          <td> 3.127</td>  <th>  Prob(JB):          </th> <td>    0.00</td> \n",
       "</tr>\n",
       "<tr>\n",
       "  <th>Kurtosis:</th>      <td>36.593</td>  <th>  Cond. No.          </th> <td>1.79e+03</td> \n",
       "</tr>\n",
       "</table><br/><br/>Notes:<br/>[1] Standard Errors assume that the covariance matrix of the errors is correctly specified.<br/>[2] The condition number is large, 1.79e+03. This might indicate that there are<br/>strong multicollinearity or other numerical problems."
      ],
      "text/plain": [
       "<class 'statsmodels.iolib.summary.Summary'>\n",
       "\"\"\"\n",
       "                            OLS Regression Results                            \n",
       "==============================================================================\n",
       "Dep. Variable:                  Price   R-squared:                       0.856\n",
       "Model:                            OLS   Adj. R-squared:                  0.856\n",
       "Method:                 Least Squares   F-statistic:                     2732.\n",
       "Date:                Thu, 02 Nov 2023   Prob (F-statistic):               0.00\n",
       "Time:                        11:08:52   Log-Likelihood:                -4157.7\n",
       "No. Observations:                 922   AIC:                             8321.\n",
       "Df Residuals:                     919   BIC:                             8336.\n",
       "Df Model:                           2                                         \n",
       "Covariance Type:            nonrobust                                         \n",
       "=======================================================================================\n",
       "                          coef    std err          t      P>|t|      [0.025      0.975]\n",
       "---------------------------------------------------------------------------------------\n",
       "Intercept               5.7689      1.429      4.037      0.000       2.965       8.573\n",
       "Pieces                  0.0875      0.001     73.747      0.000       0.085       0.090\n",
       "Klassifisering_norm     3.1235      1.116      2.799      0.005       0.934       5.314\n",
       "==============================================================================\n",
       "Omnibus:                      737.023   Durbin-Watson:                   1.246\n",
       "Prob(Omnibus):                  0.000   Jarque-Bera (JB):            44856.684\n",
       "Skew:                           3.127   Prob(JB):                         0.00\n",
       "Kurtosis:                      36.593   Cond. No.                     1.79e+03\n",
       "==============================================================================\n",
       "\n",
       "Notes:\n",
       "[1] Standard Errors assume that the covariance matrix of the errors is correctly specified.\n",
       "[2] The condition number is large, 1.79e+03. This might indicate that there are\n",
       "strong multicollinearity or other numerical problems.\n",
       "\"\"\""
      ]
     },
     "execution_count": 19,
     "metadata": {},
     "output_type": "execute_result"
    }
   ],
   "source": [
    "df2['Predicted_Price'] = results_mlr.predict(df2[['Pieces', 'Klassifisering_norm']])\n",
    "\n",
    "plt.scatter(df2['Price'], df2['Predicted_Price'], alpha=0.5)\n",
    "plt.plot([df2['Price'].min(), df2['Price'].max()], \n",
    "         [df2['Price'].min(), df2['Price'].max()], \n",
    "         '--', color='red', linewidth=2)\n",
    "plt.xlabel('Actual Price ($)')\n",
    "plt.ylabel('Predicted Price ($)')\n",
    "plt.title('Actual vs. Predicted Prices')\n",
    "plt.show()\n",
    "\n",
    "summary_mlr\n"
   ]
  },
  {
   "cell_type": "code",
   "execution_count": null,
   "metadata": {},
   "outputs": [],
   "source": []
  }
 ],
 "metadata": {
  "kernelspec": {
   "display_name": "base",
   "language": "python",
   "name": "python3"
  },
  "language_info": {
   "codemirror_mode": {
    "name": "ipython",
    "version": 3
   },
   "file_extension": ".py",
   "mimetype": "text/x-python",
   "name": "python",
   "nbconvert_exporter": "python",
   "pygments_lexer": "ipython3",
   "version": "3.9.12"
  }
 },
 "nbformat": 4,
 "nbformat_minor": 2
}
